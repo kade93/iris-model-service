{
 "cells": [
  {
   "cell_type": "markdown",
   "id": "b7a6fc6c-7563-4c8a-a99b-3adc37baabc7",
   "metadata": {},
   "source": [
    "![](https://storage.googleapis.com/bj-lecture-image/sseken/sklearn_iris/sklearn_front_page.png)"
   ]
  },
  {
   "cell_type": "markdown",
   "id": "1bbfdf01-43b6-4b3a-ae13-85a7f71b7dc5",
   "metadata": {},
   "source": [
    "scikit-learn은 Python 머신러닝 분야에 대표적인 라이브러리로 다음과 같은 특징을 갖습니다.\n",
    "\n",
    "- 데이터를 예측하고 분석하는데 있어서 간편하고 효율적인 도구\n",
    "- 손쉽게 사용가능하며, 분류, 회귀, 군집화, 차원감소 등 다양한 분야에서 사용\n",
    "- NumPy, SciPy, matplotlib를 이용해서 제작\n",
    "- 오픈 소스이면서 상업적 사용이 가능한 BSD license"
   ]
  },
  {
   "cell_type": "markdown",
   "id": "60fde070-3c42-4fe7-8c85-f0d2dbbae176",
   "metadata": {},
   "source": [
    "앞서 살펴본 것처럼 머신러닝의 지도학습 분야는 크게 분류(Classification)와 회귀(Regression) 모델로 나뉩니다. 이번 장에서는 대표적인 분류와 회귀 문제를 푸는데 있어서 scikit-learn을 어떻게 활용할 수 있는지 알아보겠습니다."
   ]
  },
  {
   "cell_type": "markdown",
   "id": "2601e00b-3a22-4325-a814-1dafdecaa70f",
   "metadata": {},
   "source": [
    "# 4.1 분류 (Classification)"
   ]
  },
  {
   "cell_type": "markdown",
   "id": "571a6fe4-0892-4e38-bd4e-484c2417717d",
   "metadata": {},
   "source": [
    "지도학습의 분류 문제에서는 붓꽃(iris) 품종 분류가 가장 처음 시작하는 대표적인 예제입니다. 붓꽃 꽃잎(petal)과 꽃받침(sepal)의 폭(width)와 길이(length) 데이터를 이용해서 setosa, versicolor, virginica의 세가지 종류의 품종으로 분류하는 문제입니다."
   ]
  },
  {
   "cell_type": "markdown",
   "id": "246540c3-968d-4a30-9356-65622c5924b4",
   "metadata": {},
   "source": [
    "https://en.wikipedia.org/wiki/Iris_flower_data_set  \n",
    "![](https://storage.googleapis.com/bj-lecture-image/sseken/sklearn_iris/iris_type.png)"
   ]
  },
  {
   "cell_type": "markdown",
   "id": "489747fa-f60a-4424-b679-dbc0e425dee3",
   "metadata": {},
   "source": [
    "## 4.1.1 데이터 수집"
   ]
  },
  {
   "cell_type": "markdown",
   "id": "f41b2250-e4d1-433d-a2cc-4b9b1c9d1bdb",
   "metadata": {},
   "source": [
    "### A. Import modules"
   ]
  },
  {
   "cell_type": "markdown",
   "id": "a6dcd625-6573-4862-9ec6-a2f7aa8692a8",
   "metadata": {},
   "source": [
    "필요한 모듈을 `import`합니다. `numpy`와 `pandas`를 각각 `np`, `pd`라는 이름으로 사용하겠습니다."
   ]
  },
  {
   "cell_type": "code",
   "execution_count": 1,
   "id": "9f267913-905c-4aa3-b951-f66639b54837",
   "metadata": {},
   "outputs": [],
   "source": [
    "import numpy as np\n",
    "import pandas as pd"
   ]
  },
  {
   "cell_type": "markdown",
   "id": "c1f1fe26-9dd4-4a2c-85ac-b7479e1ccc18",
   "metadata": {},
   "source": [
    "### B. Load dataset"
   ]
  },
  {
   "cell_type": "markdown",
   "id": "8d0e3808-c372-45a6-af41-7c6420393bbf",
   "metadata": {},
   "source": [
    "`sklearn.datasets.load_iris()` 메서드를 이용하여 iris 데이터를 불러옵니다. `display()`를 이용해서 iris 데이터를 출력해보면 다양한 정보를 확인하실 수 있습니다. "
   ]
  },
  {
   "cell_type": "code",
   "execution_count": 2,
   "id": "8c461ebd-eeca-4c3d-81a8-30fb2c773d03",
   "metadata": {},
   "outputs": [
    {
     "data": {
      "text/plain": [
       "{'data': array([[5.1, 3.5, 1.4, 0.2],\n",
       "        [4.9, 3. , 1.4, 0.2],\n",
       "        [4.7, 3.2, 1.3, 0.2],\n",
       "        [4.6, 3.1, 1.5, 0.2],\n",
       "        [5. , 3.6, 1.4, 0.2],\n",
       "        [5.4, 3.9, 1.7, 0.4],\n",
       "        [4.6, 3.4, 1.4, 0.3],\n",
       "        [5. , 3.4, 1.5, 0.2],\n",
       "        [4.4, 2.9, 1.4, 0.2],\n",
       "        [4.9, 3.1, 1.5, 0.1],\n",
       "        [5.4, 3.7, 1.5, 0.2],\n",
       "        [4.8, 3.4, 1.6, 0.2],\n",
       "        [4.8, 3. , 1.4, 0.1],\n",
       "        [4.3, 3. , 1.1, 0.1],\n",
       "        [5.8, 4. , 1.2, 0.2],\n",
       "        [5.7, 4.4, 1.5, 0.4],\n",
       "        [5.4, 3.9, 1.3, 0.4],\n",
       "        [5.1, 3.5, 1.4, 0.3],\n",
       "        [5.7, 3.8, 1.7, 0.3],\n",
       "        [5.1, 3.8, 1.5, 0.3],\n",
       "        [5.4, 3.4, 1.7, 0.2],\n",
       "        [5.1, 3.7, 1.5, 0.4],\n",
       "        [4.6, 3.6, 1. , 0.2],\n",
       "        [5.1, 3.3, 1.7, 0.5],\n",
       "        [4.8, 3.4, 1.9, 0.2],\n",
       "        [5. , 3. , 1.6, 0.2],\n",
       "        [5. , 3.4, 1.6, 0.4],\n",
       "        [5.2, 3.5, 1.5, 0.2],\n",
       "        [5.2, 3.4, 1.4, 0.2],\n",
       "        [4.7, 3.2, 1.6, 0.2],\n",
       "        [4.8, 3.1, 1.6, 0.2],\n",
       "        [5.4, 3.4, 1.5, 0.4],\n",
       "        [5.2, 4.1, 1.5, 0.1],\n",
       "        [5.5, 4.2, 1.4, 0.2],\n",
       "        [4.9, 3.1, 1.5, 0.2],\n",
       "        [5. , 3.2, 1.2, 0.2],\n",
       "        [5.5, 3.5, 1.3, 0.2],\n",
       "        [4.9, 3.6, 1.4, 0.1],\n",
       "        [4.4, 3. , 1.3, 0.2],\n",
       "        [5.1, 3.4, 1.5, 0.2],\n",
       "        [5. , 3.5, 1.3, 0.3],\n",
       "        [4.5, 2.3, 1.3, 0.3],\n",
       "        [4.4, 3.2, 1.3, 0.2],\n",
       "        [5. , 3.5, 1.6, 0.6],\n",
       "        [5.1, 3.8, 1.9, 0.4],\n",
       "        [4.8, 3. , 1.4, 0.3],\n",
       "        [5.1, 3.8, 1.6, 0.2],\n",
       "        [4.6, 3.2, 1.4, 0.2],\n",
       "        [5.3, 3.7, 1.5, 0.2],\n",
       "        [5. , 3.3, 1.4, 0.2],\n",
       "        [7. , 3.2, 4.7, 1.4],\n",
       "        [6.4, 3.2, 4.5, 1.5],\n",
       "        [6.9, 3.1, 4.9, 1.5],\n",
       "        [5.5, 2.3, 4. , 1.3],\n",
       "        [6.5, 2.8, 4.6, 1.5],\n",
       "        [5.7, 2.8, 4.5, 1.3],\n",
       "        [6.3, 3.3, 4.7, 1.6],\n",
       "        [4.9, 2.4, 3.3, 1. ],\n",
       "        [6.6, 2.9, 4.6, 1.3],\n",
       "        [5.2, 2.7, 3.9, 1.4],\n",
       "        [5. , 2. , 3.5, 1. ],\n",
       "        [5.9, 3. , 4.2, 1.5],\n",
       "        [6. , 2.2, 4. , 1. ],\n",
       "        [6.1, 2.9, 4.7, 1.4],\n",
       "        [5.6, 2.9, 3.6, 1.3],\n",
       "        [6.7, 3.1, 4.4, 1.4],\n",
       "        [5.6, 3. , 4.5, 1.5],\n",
       "        [5.8, 2.7, 4.1, 1. ],\n",
       "        [6.2, 2.2, 4.5, 1.5],\n",
       "        [5.6, 2.5, 3.9, 1.1],\n",
       "        [5.9, 3.2, 4.8, 1.8],\n",
       "        [6.1, 2.8, 4. , 1.3],\n",
       "        [6.3, 2.5, 4.9, 1.5],\n",
       "        [6.1, 2.8, 4.7, 1.2],\n",
       "        [6.4, 2.9, 4.3, 1.3],\n",
       "        [6.6, 3. , 4.4, 1.4],\n",
       "        [6.8, 2.8, 4.8, 1.4],\n",
       "        [6.7, 3. , 5. , 1.7],\n",
       "        [6. , 2.9, 4.5, 1.5],\n",
       "        [5.7, 2.6, 3.5, 1. ],\n",
       "        [5.5, 2.4, 3.8, 1.1],\n",
       "        [5.5, 2.4, 3.7, 1. ],\n",
       "        [5.8, 2.7, 3.9, 1.2],\n",
       "        [6. , 2.7, 5.1, 1.6],\n",
       "        [5.4, 3. , 4.5, 1.5],\n",
       "        [6. , 3.4, 4.5, 1.6],\n",
       "        [6.7, 3.1, 4.7, 1.5],\n",
       "        [6.3, 2.3, 4.4, 1.3],\n",
       "        [5.6, 3. , 4.1, 1.3],\n",
       "        [5.5, 2.5, 4. , 1.3],\n",
       "        [5.5, 2.6, 4.4, 1.2],\n",
       "        [6.1, 3. , 4.6, 1.4],\n",
       "        [5.8, 2.6, 4. , 1.2],\n",
       "        [5. , 2.3, 3.3, 1. ],\n",
       "        [5.6, 2.7, 4.2, 1.3],\n",
       "        [5.7, 3. , 4.2, 1.2],\n",
       "        [5.7, 2.9, 4.2, 1.3],\n",
       "        [6.2, 2.9, 4.3, 1.3],\n",
       "        [5.1, 2.5, 3. , 1.1],\n",
       "        [5.7, 2.8, 4.1, 1.3],\n",
       "        [6.3, 3.3, 6. , 2.5],\n",
       "        [5.8, 2.7, 5.1, 1.9],\n",
       "        [7.1, 3. , 5.9, 2.1],\n",
       "        [6.3, 2.9, 5.6, 1.8],\n",
       "        [6.5, 3. , 5.8, 2.2],\n",
       "        [7.6, 3. , 6.6, 2.1],\n",
       "        [4.9, 2.5, 4.5, 1.7],\n",
       "        [7.3, 2.9, 6.3, 1.8],\n",
       "        [6.7, 2.5, 5.8, 1.8],\n",
       "        [7.2, 3.6, 6.1, 2.5],\n",
       "        [6.5, 3.2, 5.1, 2. ],\n",
       "        [6.4, 2.7, 5.3, 1.9],\n",
       "        [6.8, 3. , 5.5, 2.1],\n",
       "        [5.7, 2.5, 5. , 2. ],\n",
       "        [5.8, 2.8, 5.1, 2.4],\n",
       "        [6.4, 3.2, 5.3, 2.3],\n",
       "        [6.5, 3. , 5.5, 1.8],\n",
       "        [7.7, 3.8, 6.7, 2.2],\n",
       "        [7.7, 2.6, 6.9, 2.3],\n",
       "        [6. , 2.2, 5. , 1.5],\n",
       "        [6.9, 3.2, 5.7, 2.3],\n",
       "        [5.6, 2.8, 4.9, 2. ],\n",
       "        [7.7, 2.8, 6.7, 2. ],\n",
       "        [6.3, 2.7, 4.9, 1.8],\n",
       "        [6.7, 3.3, 5.7, 2.1],\n",
       "        [7.2, 3.2, 6. , 1.8],\n",
       "        [6.2, 2.8, 4.8, 1.8],\n",
       "        [6.1, 3. , 4.9, 1.8],\n",
       "        [6.4, 2.8, 5.6, 2.1],\n",
       "        [7.2, 3. , 5.8, 1.6],\n",
       "        [7.4, 2.8, 6.1, 1.9],\n",
       "        [7.9, 3.8, 6.4, 2. ],\n",
       "        [6.4, 2.8, 5.6, 2.2],\n",
       "        [6.3, 2.8, 5.1, 1.5],\n",
       "        [6.1, 2.6, 5.6, 1.4],\n",
       "        [7.7, 3. , 6.1, 2.3],\n",
       "        [6.3, 3.4, 5.6, 2.4],\n",
       "        [6.4, 3.1, 5.5, 1.8],\n",
       "        [6. , 3. , 4.8, 1.8],\n",
       "        [6.9, 3.1, 5.4, 2.1],\n",
       "        [6.7, 3.1, 5.6, 2.4],\n",
       "        [6.9, 3.1, 5.1, 2.3],\n",
       "        [5.8, 2.7, 5.1, 1.9],\n",
       "        [6.8, 3.2, 5.9, 2.3],\n",
       "        [6.7, 3.3, 5.7, 2.5],\n",
       "        [6.7, 3. , 5.2, 2.3],\n",
       "        [6.3, 2.5, 5. , 1.9],\n",
       "        [6.5, 3. , 5.2, 2. ],\n",
       "        [6.2, 3.4, 5.4, 2.3],\n",
       "        [5.9, 3. , 5.1, 1.8]]),\n",
       " 'target': array([0, 0, 0, 0, 0, 0, 0, 0, 0, 0, 0, 0, 0, 0, 0, 0, 0, 0, 0, 0, 0, 0,\n",
       "        0, 0, 0, 0, 0, 0, 0, 0, 0, 0, 0, 0, 0, 0, 0, 0, 0, 0, 0, 0, 0, 0,\n",
       "        0, 0, 0, 0, 0, 0, 1, 1, 1, 1, 1, 1, 1, 1, 1, 1, 1, 1, 1, 1, 1, 1,\n",
       "        1, 1, 1, 1, 1, 1, 1, 1, 1, 1, 1, 1, 1, 1, 1, 1, 1, 1, 1, 1, 1, 1,\n",
       "        1, 1, 1, 1, 1, 1, 1, 1, 1, 1, 1, 1, 2, 2, 2, 2, 2, 2, 2, 2, 2, 2,\n",
       "        2, 2, 2, 2, 2, 2, 2, 2, 2, 2, 2, 2, 2, 2, 2, 2, 2, 2, 2, 2, 2, 2,\n",
       "        2, 2, 2, 2, 2, 2, 2, 2, 2, 2, 2, 2, 2, 2, 2, 2, 2, 2]),\n",
       " 'frame': None,\n",
       " 'target_names': array(['setosa', 'versicolor', 'virginica'], dtype='<U10'),\n",
       " 'DESCR': '.. _iris_dataset:\\n\\nIris plants dataset\\n--------------------\\n\\n**Data Set Characteristics:**\\n\\n    :Number of Instances: 150 (50 in each of three classes)\\n    :Number of Attributes: 4 numeric, predictive attributes and the class\\n    :Attribute Information:\\n        - sepal length in cm\\n        - sepal width in cm\\n        - petal length in cm\\n        - petal width in cm\\n        - class:\\n                - Iris-Setosa\\n                - Iris-Versicolour\\n                - Iris-Virginica\\n                \\n    :Summary Statistics:\\n\\n    ============== ==== ==== ======= ===== ====================\\n                    Min  Max   Mean    SD   Class Correlation\\n    ============== ==== ==== ======= ===== ====================\\n    sepal length:   4.3  7.9   5.84   0.83    0.7826\\n    sepal width:    2.0  4.4   3.05   0.43   -0.4194\\n    petal length:   1.0  6.9   3.76   1.76    0.9490  (high!)\\n    petal width:    0.1  2.5   1.20   0.76    0.9565  (high!)\\n    ============== ==== ==== ======= ===== ====================\\n\\n    :Missing Attribute Values: None\\n    :Class Distribution: 33.3% for each of 3 classes.\\n    :Creator: R.A. Fisher\\n    :Donor: Michael Marshall (MARSHALL%PLU@io.arc.nasa.gov)\\n    :Date: July, 1988\\n\\nThe famous Iris database, first used by Sir R.A. Fisher. The dataset is taken\\nfrom Fisher\\'s paper. Note that it\\'s the same as in R, but not as in the UCI\\nMachine Learning Repository, which has two wrong data points.\\n\\nThis is perhaps the best known database to be found in the\\npattern recognition literature.  Fisher\\'s paper is a classic in the field and\\nis referenced frequently to this day.  (See Duda & Hart, for example.)  The\\ndata set contains 3 classes of 50 instances each, where each class refers to a\\ntype of iris plant.  One class is linearly separable from the other 2; the\\nlatter are NOT linearly separable from each other.\\n\\n.. topic:: References\\n\\n   - Fisher, R.A. \"The use of multiple measurements in taxonomic problems\"\\n     Annual Eugenics, 7, Part II, 179-188 (1936); also in \"Contributions to\\n     Mathematical Statistics\" (John Wiley, NY, 1950).\\n   - Duda, R.O., & Hart, P.E. (1973) Pattern Classification and Scene Analysis.\\n     (Q327.D83) John Wiley & Sons.  ISBN 0-471-22361-1.  See page 218.\\n   - Dasarathy, B.V. (1980) \"Nosing Around the Neighborhood: A New System\\n     Structure and Classification Rule for Recognition in Partially Exposed\\n     Environments\".  IEEE Transactions on Pattern Analysis and Machine\\n     Intelligence, Vol. PAMI-2, No. 1, 67-71.\\n   - Gates, G.W. (1972) \"The Reduced Nearest Neighbor Rule\".  IEEE Transactions\\n     on Information Theory, May 1972, 431-433.\\n   - See also: 1988 MLC Proceedings, 54-64.  Cheeseman et al\"s AUTOCLASS II\\n     conceptual clustering system finds 3 classes in the data.\\n   - Many, many more ...',\n",
       " 'feature_names': ['sepal length (cm)',\n",
       "  'sepal width (cm)',\n",
       "  'petal length (cm)',\n",
       "  'petal width (cm)'],\n",
       " 'filename': '/usr/local/lib/python3.6/dist-packages/sklearn/datasets/data/iris.csv'}"
      ]
     },
     "metadata": {},
     "output_type": "display_data"
    }
   ],
   "source": [
    "from sklearn import datasets\n",
    "\n",
    "iris = datasets.load_iris()\n",
    "display(iris)"
   ]
  },
  {
   "cell_type": "markdown",
   "id": "4977520d-658c-4629-ba68-4de5dce37f53",
   "metadata": {},
   "source": [
    "Dictionary 형태로 저장되어 있는 iris 데이터의 keys를 출력해보시면 `['data', 'target', 'target_names', 'DESCR', 'feature_names', 'filename']`로 정보들이 분류되어 있는 것을 확인할 수 있습니다."
   ]
  },
  {
   "cell_type": "code",
   "execution_count": 3,
   "id": "cbc96567-657f-410a-80fb-ec478c9c421d",
   "metadata": {},
   "outputs": [
    {
     "name": "stdout",
     "output_type": "stream",
     "text": [
      "dict_keys(['data', 'target', 'frame', 'target_names', 'DESCR', 'feature_names', 'filename'])\n"
     ]
    }
   ],
   "source": [
    "print(iris.keys())"
   ]
  },
  {
   "cell_type": "markdown",
   "id": "8e9d5df5-f2ae-45b5-b443-cb0dc68ffcc9",
   "metadata": {},
   "source": [
    "iris 데이터셋은 여러 개의 샘플에 대해 꽃잎(petal)과 꽃받침(sepal)의 폭(width)와 길이(length)의 입력 정보와 함께 각 샘플의 품종 정보인 라벨(답안지 또는 타겟)을 포함하고 있습니다. 이번 과제의 목표는 입력정보와 답안지가 함께 있는 샘플 데이터들을 학습하여 품종 정보를 맞추는 모델을 만드는 것입니다.   \n",
    "각각 꽃들을 측정한 입력 정보와 함께 품종 정보가 답안지로 주어져 있으므로 지도학습의 형태이며, 품종 정보가 연속적인(continuous) 값이 아니라 이산적인(discrete) 값을 가지므로 분류(classification)의 문제입니다."
   ]
  },
  {
   "cell_type": "markdown",
   "id": "70744ec3-d729-4fa3-835f-11698afaba2d",
   "metadata": {},
   "source": [
    "### C. Feature and target"
   ]
  },
  {
   "cell_type": "markdown",
   "id": "1d8df9ac-ee02-41b4-8297-bb4c85fcb0a2",
   "metadata": {},
   "source": [
    "시작해봅시다. 앞서 iris 데이터를 `display()`로 살펴보았을 때 가장 먼저 눈에 들어오는 것은 `'data'` 항목 입니다. 가장 위에 있고, 가장 길죠. `'data'`의 첫번째 샘플을 출력해 보면 4개의 숫자들이 들어있습니다. 이 숫자들의 의미는 `'feature_names'`를 출력해서 확인할 수 있는 것처럼 `['sepal length (cm)', 'sepal width (cm)', 'petal length (cm)', 'petal width (cm)']`로 4가지 feature인 것을 확인할 수 있습니다. `'data'`항목의 shape을 살펴보면 150 rows, 4 columns인 것으로 보아 총 150개의 샘플에 대한 4가지 측정값이 학습용 데이터로 주어진 것을 파악할 수 있습니다."
   ]
  },
  {
   "cell_type": "code",
   "execution_count": 4,
   "id": "c11c5709-8046-4aa1-8d59-b6359c3f24ae",
   "metadata": {},
   "outputs": [
    {
     "name": "stdout",
     "output_type": "stream",
     "text": [
      "first sample data: [5.1 3.5 1.4 0.2]\n",
      "feature names: ['sepal length (cm)', 'sepal width (cm)', 'petal length (cm)', 'petal width (cm)']\n",
      "data shape: (150, 4)\n"
     ]
    }
   ],
   "source": [
    "print('first sample data:', iris['data'][0])\n",
    "print('feature names:', iris['feature_names'])\n",
    "print('data shape:', iris['data'].shape)"
   ]
  },
  {
   "cell_type": "markdown",
   "id": "0f3567ec-d3e7-4abf-af84-95d5c3385298",
   "metadata": {},
   "source": [
    "입력 정보 `'data'`를 `iris_df` 이름의 DataFrame으로 변환합니다."
   ]
  },
  {
   "cell_type": "code",
   "execution_count": 5,
   "id": "55c60eaa-8c84-4eda-8378-f9755b04aa03",
   "metadata": {},
   "outputs": [
    {
     "data": {
      "text/html": [
       "<div>\n",
       "<style scoped>\n",
       "    .dataframe tbody tr th:only-of-type {\n",
       "        vertical-align: middle;\n",
       "    }\n",
       "\n",
       "    .dataframe tbody tr th {\n",
       "        vertical-align: top;\n",
       "    }\n",
       "\n",
       "    .dataframe thead th {\n",
       "        text-align: right;\n",
       "    }\n",
       "</style>\n",
       "<table border=\"1\" class=\"dataframe\">\n",
       "  <thead>\n",
       "    <tr style=\"text-align: right;\">\n",
       "      <th></th>\n",
       "      <th>sepal length (cm)</th>\n",
       "      <th>sepal width (cm)</th>\n",
       "      <th>petal length (cm)</th>\n",
       "      <th>petal width (cm)</th>\n",
       "    </tr>\n",
       "  </thead>\n",
       "  <tbody>\n",
       "    <tr>\n",
       "      <th>0</th>\n",
       "      <td>5.1</td>\n",
       "      <td>3.5</td>\n",
       "      <td>1.4</td>\n",
       "      <td>0.2</td>\n",
       "    </tr>\n",
       "    <tr>\n",
       "      <th>1</th>\n",
       "      <td>4.9</td>\n",
       "      <td>3.0</td>\n",
       "      <td>1.4</td>\n",
       "      <td>0.2</td>\n",
       "    </tr>\n",
       "    <tr>\n",
       "      <th>2</th>\n",
       "      <td>4.7</td>\n",
       "      <td>3.2</td>\n",
       "      <td>1.3</td>\n",
       "      <td>0.2</td>\n",
       "    </tr>\n",
       "    <tr>\n",
       "      <th>3</th>\n",
       "      <td>4.6</td>\n",
       "      <td>3.1</td>\n",
       "      <td>1.5</td>\n",
       "      <td>0.2</td>\n",
       "    </tr>\n",
       "    <tr>\n",
       "      <th>4</th>\n",
       "      <td>5.0</td>\n",
       "      <td>3.6</td>\n",
       "      <td>1.4</td>\n",
       "      <td>0.2</td>\n",
       "    </tr>\n",
       "    <tr>\n",
       "      <th>...</th>\n",
       "      <td>...</td>\n",
       "      <td>...</td>\n",
       "      <td>...</td>\n",
       "      <td>...</td>\n",
       "    </tr>\n",
       "    <tr>\n",
       "      <th>145</th>\n",
       "      <td>6.7</td>\n",
       "      <td>3.0</td>\n",
       "      <td>5.2</td>\n",
       "      <td>2.3</td>\n",
       "    </tr>\n",
       "    <tr>\n",
       "      <th>146</th>\n",
       "      <td>6.3</td>\n",
       "      <td>2.5</td>\n",
       "      <td>5.0</td>\n",
       "      <td>1.9</td>\n",
       "    </tr>\n",
       "    <tr>\n",
       "      <th>147</th>\n",
       "      <td>6.5</td>\n",
       "      <td>3.0</td>\n",
       "      <td>5.2</td>\n",
       "      <td>2.0</td>\n",
       "    </tr>\n",
       "    <tr>\n",
       "      <th>148</th>\n",
       "      <td>6.2</td>\n",
       "      <td>3.4</td>\n",
       "      <td>5.4</td>\n",
       "      <td>2.3</td>\n",
       "    </tr>\n",
       "    <tr>\n",
       "      <th>149</th>\n",
       "      <td>5.9</td>\n",
       "      <td>3.0</td>\n",
       "      <td>5.1</td>\n",
       "      <td>1.8</td>\n",
       "    </tr>\n",
       "  </tbody>\n",
       "</table>\n",
       "<p>150 rows × 4 columns</p>\n",
       "</div>"
      ],
      "text/plain": [
       "     sepal length (cm)  sepal width (cm)  petal length (cm)  petal width (cm)\n",
       "0                  5.1               3.5                1.4               0.2\n",
       "1                  4.9               3.0                1.4               0.2\n",
       "2                  4.7               3.2                1.3               0.2\n",
       "3                  4.6               3.1                1.5               0.2\n",
       "4                  5.0               3.6                1.4               0.2\n",
       "..                 ...               ...                ...               ...\n",
       "145                6.7               3.0                5.2               2.3\n",
       "146                6.3               2.5                5.0               1.9\n",
       "147                6.5               3.0                5.2               2.0\n",
       "148                6.2               3.4                5.4               2.3\n",
       "149                5.9               3.0                5.1               1.8\n",
       "\n",
       "[150 rows x 4 columns]"
      ]
     },
     "metadata": {},
     "output_type": "display_data"
    }
   ],
   "source": [
    "iris_df = pd.DataFrame(iris['data'], columns=iris['feature_names'])\n",
    "display(iris_df)"
   ]
  },
  {
   "cell_type": "markdown",
   "id": "63f41916-9b0c-4b97-a2cb-a6936de816a4",
   "metadata": {},
   "source": [
    "앞서 `'data'`에 품종을 학습시킬 샘플 데이터가 있었다면, `'target'`에는 각 샘플의 품종 정보가 카테고리로 분류되어 0, 1, 2 세 가지 숫자로 표현되어 들어있습니다. 각 숫자가 의미하는 바는 `'target_names'`를 출력해서 확인할 수 있으며, 0은 `'setosa'`, 1은 `'versicolor'`, 2는 `'virginica'`를 뜻합니다. `'data'`에 150개의 샘플 feature가 들어 있었던 것처럼 `'target'`에도 150개 답안지가 들어있는 것을 shape으로부터 확인할 수 있습니다."
   ]
  },
  {
   "cell_type": "code",
   "execution_count": 6,
   "id": "381cb7aa-64b7-4d8e-8308-9bca75f94df3",
   "metadata": {},
   "outputs": [
    {
     "name": "stdout",
     "output_type": "stream",
     "text": [
      "first sample target: 0\n",
      "target names: ['setosa' 'versicolor' 'virginica']\n",
      "target shape: (150,)\n"
     ]
    }
   ],
   "source": [
    "print('first sample target:', iris['target'][0])\n",
    "print('target names:', iris['target_names'])\n",
    "print('target shape:', iris['target'].shape)"
   ]
  },
  {
   "cell_type": "markdown",
   "id": "3b0b454a-3291-4cdd-bbdd-ffb81a1ecf66",
   "metadata": {},
   "source": [
    "`iris_df`에 붓꽃 품종에 해당하는 답안지 'target'도 column 방향으로 첨부합니다."
   ]
  },
  {
   "cell_type": "code",
   "execution_count": 7,
   "id": "454132f2-e1ee-4a10-ac11-43088a30de83",
   "metadata": {},
   "outputs": [
    {
     "data": {
      "text/html": [
       "<div>\n",
       "<style scoped>\n",
       "    .dataframe tbody tr th:only-of-type {\n",
       "        vertical-align: middle;\n",
       "    }\n",
       "\n",
       "    .dataframe tbody tr th {\n",
       "        vertical-align: top;\n",
       "    }\n",
       "\n",
       "    .dataframe thead th {\n",
       "        text-align: right;\n",
       "    }\n",
       "</style>\n",
       "<table border=\"1\" class=\"dataframe\">\n",
       "  <thead>\n",
       "    <tr style=\"text-align: right;\">\n",
       "      <th></th>\n",
       "      <th>sepal length (cm)</th>\n",
       "      <th>sepal width (cm)</th>\n",
       "      <th>petal length (cm)</th>\n",
       "      <th>petal width (cm)</th>\n",
       "      <th>target</th>\n",
       "    </tr>\n",
       "  </thead>\n",
       "  <tbody>\n",
       "    <tr>\n",
       "      <th>0</th>\n",
       "      <td>5.1</td>\n",
       "      <td>3.5</td>\n",
       "      <td>1.4</td>\n",
       "      <td>0.2</td>\n",
       "      <td>0</td>\n",
       "    </tr>\n",
       "    <tr>\n",
       "      <th>1</th>\n",
       "      <td>4.9</td>\n",
       "      <td>3.0</td>\n",
       "      <td>1.4</td>\n",
       "      <td>0.2</td>\n",
       "      <td>0</td>\n",
       "    </tr>\n",
       "    <tr>\n",
       "      <th>2</th>\n",
       "      <td>4.7</td>\n",
       "      <td>3.2</td>\n",
       "      <td>1.3</td>\n",
       "      <td>0.2</td>\n",
       "      <td>0</td>\n",
       "    </tr>\n",
       "    <tr>\n",
       "      <th>3</th>\n",
       "      <td>4.6</td>\n",
       "      <td>3.1</td>\n",
       "      <td>1.5</td>\n",
       "      <td>0.2</td>\n",
       "      <td>0</td>\n",
       "    </tr>\n",
       "    <tr>\n",
       "      <th>4</th>\n",
       "      <td>5.0</td>\n",
       "      <td>3.6</td>\n",
       "      <td>1.4</td>\n",
       "      <td>0.2</td>\n",
       "      <td>0</td>\n",
       "    </tr>\n",
       "    <tr>\n",
       "      <th>...</th>\n",
       "      <td>...</td>\n",
       "      <td>...</td>\n",
       "      <td>...</td>\n",
       "      <td>...</td>\n",
       "      <td>...</td>\n",
       "    </tr>\n",
       "    <tr>\n",
       "      <th>145</th>\n",
       "      <td>6.7</td>\n",
       "      <td>3.0</td>\n",
       "      <td>5.2</td>\n",
       "      <td>2.3</td>\n",
       "      <td>2</td>\n",
       "    </tr>\n",
       "    <tr>\n",
       "      <th>146</th>\n",
       "      <td>6.3</td>\n",
       "      <td>2.5</td>\n",
       "      <td>5.0</td>\n",
       "      <td>1.9</td>\n",
       "      <td>2</td>\n",
       "    </tr>\n",
       "    <tr>\n",
       "      <th>147</th>\n",
       "      <td>6.5</td>\n",
       "      <td>3.0</td>\n",
       "      <td>5.2</td>\n",
       "      <td>2.0</td>\n",
       "      <td>2</td>\n",
       "    </tr>\n",
       "    <tr>\n",
       "      <th>148</th>\n",
       "      <td>6.2</td>\n",
       "      <td>3.4</td>\n",
       "      <td>5.4</td>\n",
       "      <td>2.3</td>\n",
       "      <td>2</td>\n",
       "    </tr>\n",
       "    <tr>\n",
       "      <th>149</th>\n",
       "      <td>5.9</td>\n",
       "      <td>3.0</td>\n",
       "      <td>5.1</td>\n",
       "      <td>1.8</td>\n",
       "      <td>2</td>\n",
       "    </tr>\n",
       "  </tbody>\n",
       "</table>\n",
       "<p>150 rows × 5 columns</p>\n",
       "</div>"
      ],
      "text/plain": [
       "     sepal length (cm)  sepal width (cm)  petal length (cm)  petal width (cm)  \\\n",
       "0                  5.1               3.5                1.4               0.2   \n",
       "1                  4.9               3.0                1.4               0.2   \n",
       "2                  4.7               3.2                1.3               0.2   \n",
       "3                  4.6               3.1                1.5               0.2   \n",
       "4                  5.0               3.6                1.4               0.2   \n",
       "..                 ...               ...                ...               ...   \n",
       "145                6.7               3.0                5.2               2.3   \n",
       "146                6.3               2.5                5.0               1.9   \n",
       "147                6.5               3.0                5.2               2.0   \n",
       "148                6.2               3.4                5.4               2.3   \n",
       "149                5.9               3.0                5.1               1.8   \n",
       "\n",
       "     target  \n",
       "0         0  \n",
       "1         0  \n",
       "2         0  \n",
       "3         0  \n",
       "4         0  \n",
       "..      ...  \n",
       "145       2  \n",
       "146       2  \n",
       "147       2  \n",
       "148       2  \n",
       "149       2  \n",
       "\n",
       "[150 rows x 5 columns]"
      ]
     },
     "metadata": {},
     "output_type": "display_data"
    }
   ],
   "source": [
    "iris_df['target'] = iris['target']\n",
    "display(iris_df)"
   ]
  },
  {
   "cell_type": "markdown",
   "id": "f44847da-eaaf-47ba-b53f-c7dd285c19fd",
   "metadata": {},
   "source": [
    "target의 종류별로 몇개씩의 샘플들이 있는지 살펴보겠습니다. `iris_df`를 `'target'` column의 값에 따라 slicing한 후에 DataFrame의 개수를 `len()`을 통해 구하면 됩니다. 결과에서 볼 수 있는 것처럼 iris dataset에는 3가지 품종이 50개씩 고르게 분포되어 있는 것을 확인할 수 있습니다."
   ]
  },
  {
   "cell_type": "code",
   "execution_count": 8,
   "id": "03535c0f-4e84-4ed8-be2e-aa788e28a9a2",
   "metadata": {},
   "outputs": [
    {
     "name": "stdout",
     "output_type": "stream",
     "text": [
      "0 \t 50\n",
      "1 \t 50\n",
      "2 \t 50\n"
     ]
    }
   ],
   "source": [
    "for label in range(3):\n",
    "    iris_df_label = iris_df[iris_df['target'] == label]\n",
    "    print(label, '\\t', len(iris_df_label))"
   ]
  },
  {
   "cell_type": "markdown",
   "id": "a6481937-0b7f-4690-9fe1-0a38cf337610",
   "metadata": {},
   "source": [
    "`Series.value_counts()` 메서드를 사용하면 데이터의 종류별 개수를 손쉽게 출력할 수 있습니다. 앞으로는 이런 유용한 메서드들을 더 적극적으로 활용하겠습니다."
   ]
  },
  {
   "cell_type": "code",
   "execution_count": 9,
   "id": "0c6a4593-ae6d-4bd1-a87c-51c7f7679159",
   "metadata": {},
   "outputs": [
    {
     "data": {
      "text/plain": [
       "2    50\n",
       "1    50\n",
       "0    50\n",
       "Name: target, dtype: int64"
      ]
     },
     "execution_count": 9,
     "metadata": {},
     "output_type": "execute_result"
    }
   ],
   "source": [
    "iris_df['target'].value_counts()"
   ]
  },
  {
   "cell_type": "markdown",
   "id": "de9f0d88-981d-43c9-879b-fcbbad89f2a5",
   "metadata": {},
   "source": [
    "## 4.1.2 데이터 탐색"
   ]
  },
  {
   "cell_type": "markdown",
   "id": "0134b852-836a-4782-85c3-e8295a9fa345",
   "metadata": {},
   "source": [
    "### A. 기본 정보와 통계 정보"
   ]
  },
  {
   "cell_type": "markdown",
   "id": "a666e769-c35a-4931-8b14-de53ca820eb7",
   "metadata": {},
   "source": [
    "데이터셋의 기본 정보를 보기 위해 `df.info()` 메소드를 활용할 수 있습니다. 모두 150개의 샘플이 있으며 float64로 된 4개의 feature와 int64로 된 1개의 target이 null data 없이 정리된 것을 확인할 수 있습니다. null 값의 포함 여부는 `df.isnull()`을 통해 boolean으로 확인할 수 있으며, 이 값을 `df.isnull().sum()`으로 합을 구하면 null 값의 총 개수를 구할 수 있습니다. `df.info()` 메소드로 확인한 것처럼 null 값은 전혀 없음을 확인할 수 있습니다."
   ]
  },
  {
   "cell_type": "code",
   "execution_count": 10,
   "id": "d525d15c-5617-4f6a-945c-9eec9d21bee2",
   "metadata": {},
   "outputs": [
    {
     "name": "stdout",
     "output_type": "stream",
     "text": [
      "<class 'pandas.core.frame.DataFrame'>\n",
      "RangeIndex: 150 entries, 0 to 149\n",
      "Data columns (total 5 columns):\n",
      " #   Column             Non-Null Count  Dtype  \n",
      "---  ------             --------------  -----  \n",
      " 0   sepal length (cm)  150 non-null    float64\n",
      " 1   sepal width (cm)   150 non-null    float64\n",
      " 2   petal length (cm)  150 non-null    float64\n",
      " 3   petal width (cm)   150 non-null    float64\n",
      " 4   target             150 non-null    int64  \n",
      "dtypes: float64(4), int64(1)\n",
      "memory usage: 6.0 KB\n",
      "None\n"
     ]
    }
   ],
   "source": [
    "print(iris_df.info())"
   ]
  },
  {
   "cell_type": "code",
   "execution_count": 11,
   "id": "9af7242f-562a-4c99-87e2-0d96de11d416",
   "metadata": {},
   "outputs": [
    {
     "name": "stdout",
     "output_type": "stream",
     "text": [
      "sepal length (cm)    0\n",
      "sepal width (cm)     0\n",
      "petal length (cm)    0\n",
      "petal width (cm)     0\n",
      "target               0\n",
      "dtype: int64\n"
     ]
    }
   ],
   "source": [
    "print(iris_df.isnull().sum())"
   ]
  },
  {
   "cell_type": "markdown",
   "id": "526aeef5-1571-4f82-871d-ca179b328c06",
   "metadata": {},
   "source": [
    "간단한 통계 정보는 `df.describe()` 메소드을 이용해 간단히 구할 수 있습니다."
   ]
  },
  {
   "cell_type": "code",
   "execution_count": 12,
   "id": "4bf0063e-7bf6-4177-8dd4-7f52ac8ce468",
   "metadata": {},
   "outputs": [
    {
     "data": {
      "text/html": [
       "<div>\n",
       "<style scoped>\n",
       "    .dataframe tbody tr th:only-of-type {\n",
       "        vertical-align: middle;\n",
       "    }\n",
       "\n",
       "    .dataframe tbody tr th {\n",
       "        vertical-align: top;\n",
       "    }\n",
       "\n",
       "    .dataframe thead th {\n",
       "        text-align: right;\n",
       "    }\n",
       "</style>\n",
       "<table border=\"1\" class=\"dataframe\">\n",
       "  <thead>\n",
       "    <tr style=\"text-align: right;\">\n",
       "      <th></th>\n",
       "      <th>sepal length (cm)</th>\n",
       "      <th>sepal width (cm)</th>\n",
       "      <th>petal length (cm)</th>\n",
       "      <th>petal width (cm)</th>\n",
       "      <th>target</th>\n",
       "    </tr>\n",
       "  </thead>\n",
       "  <tbody>\n",
       "    <tr>\n",
       "      <th>count</th>\n",
       "      <td>150.000000</td>\n",
       "      <td>150.000000</td>\n",
       "      <td>150.000000</td>\n",
       "      <td>150.000000</td>\n",
       "      <td>150.000000</td>\n",
       "    </tr>\n",
       "    <tr>\n",
       "      <th>mean</th>\n",
       "      <td>5.843333</td>\n",
       "      <td>3.057333</td>\n",
       "      <td>3.758000</td>\n",
       "      <td>1.199333</td>\n",
       "      <td>1.000000</td>\n",
       "    </tr>\n",
       "    <tr>\n",
       "      <th>std</th>\n",
       "      <td>0.828066</td>\n",
       "      <td>0.435866</td>\n",
       "      <td>1.765298</td>\n",
       "      <td>0.762238</td>\n",
       "      <td>0.819232</td>\n",
       "    </tr>\n",
       "    <tr>\n",
       "      <th>min</th>\n",
       "      <td>4.300000</td>\n",
       "      <td>2.000000</td>\n",
       "      <td>1.000000</td>\n",
       "      <td>0.100000</td>\n",
       "      <td>0.000000</td>\n",
       "    </tr>\n",
       "    <tr>\n",
       "      <th>25%</th>\n",
       "      <td>5.100000</td>\n",
       "      <td>2.800000</td>\n",
       "      <td>1.600000</td>\n",
       "      <td>0.300000</td>\n",
       "      <td>0.000000</td>\n",
       "    </tr>\n",
       "    <tr>\n",
       "      <th>50%</th>\n",
       "      <td>5.800000</td>\n",
       "      <td>3.000000</td>\n",
       "      <td>4.350000</td>\n",
       "      <td>1.300000</td>\n",
       "      <td>1.000000</td>\n",
       "    </tr>\n",
       "    <tr>\n",
       "      <th>75%</th>\n",
       "      <td>6.400000</td>\n",
       "      <td>3.300000</td>\n",
       "      <td>5.100000</td>\n",
       "      <td>1.800000</td>\n",
       "      <td>2.000000</td>\n",
       "    </tr>\n",
       "    <tr>\n",
       "      <th>max</th>\n",
       "      <td>7.900000</td>\n",
       "      <td>4.400000</td>\n",
       "      <td>6.900000</td>\n",
       "      <td>2.500000</td>\n",
       "      <td>2.000000</td>\n",
       "    </tr>\n",
       "  </tbody>\n",
       "</table>\n",
       "</div>"
      ],
      "text/plain": [
       "       sepal length (cm)  sepal width (cm)  petal length (cm)  \\\n",
       "count         150.000000        150.000000         150.000000   \n",
       "mean            5.843333          3.057333           3.758000   \n",
       "std             0.828066          0.435866           1.765298   \n",
       "min             4.300000          2.000000           1.000000   \n",
       "25%             5.100000          2.800000           1.600000   \n",
       "50%             5.800000          3.000000           4.350000   \n",
       "75%             6.400000          3.300000           5.100000   \n",
       "max             7.900000          4.400000           6.900000   \n",
       "\n",
       "       petal width (cm)      target  \n",
       "count        150.000000  150.000000  \n",
       "mean           1.199333    1.000000  \n",
       "std            0.762238    0.819232  \n",
       "min            0.100000    0.000000  \n",
       "25%            0.300000    0.000000  \n",
       "50%            1.300000    1.000000  \n",
       "75%            1.800000    2.000000  \n",
       "max            2.500000    2.000000  "
      ]
     },
     "metadata": {},
     "output_type": "display_data"
    }
   ],
   "source": [
    "display(iris_df.describe())"
   ]
  },
  {
   "cell_type": "markdown",
   "id": "90f1cfab-d356-4a72-bd4e-7dfd84eba632",
   "metadata": {},
   "source": [
    "### B. 중복값 제거"
   ]
  },
  {
   "cell_type": "markdown",
   "id": "566cb02e-0f77-4d5b-92ee-eddda8afbdac",
   "metadata": {},
   "source": [
    "150개의 샘플 중에 중복된 데이터가 있으면 제거합니다. 중복 데이터를 찾을 땐 `df.duplicated()` 메서드를 사용할 수 있고, 중복 데이터를 제거할 때에는 `df.drop_duplicates()` 메서드를 사용하면 됩니다. 아래 결과에서 볼 수 있는 것처럼 원본 데이터의 142번째 샘플이 중복값으로 확인되었고, 그 값을 삭제하고 나면 DataFrame의 index에 빈칸이 생깁니다. `df.reset_index()` 메서드를 사용하면 index를 연속된 숫자로 초기화합니다. 이때 기존의 index 정보를 column으로 옮기고 싶지 않다면 `drop=True` 옵션을 추가하면 됩니다. `df.drop_duplicates()`와 `df.reset_index()` 모두 기본적으로 원본 데이터는 그대로 두고 새로운 값으로 출력만 하는 메서드입니다. 수정된 데이터를 새로운 변수에 할당하고 싶을 때 사용할 수 있습니다. `inplace=True` 옵션을 사용하면 원본 데이터를 직접 수정할 수 있습니다. 실제 결과에서 `iris_df`의 index 마지막 값이 1개 줄어든 것을 확인할 수 있습니다."
   ]
  },
  {
   "cell_type": "code",
   "execution_count": 13,
   "id": "e2659723-067d-484a-9259-a6fa1b88ded3",
   "metadata": {},
   "outputs": [
    {
     "data": {
      "text/html": [
       "<div>\n",
       "<style scoped>\n",
       "    .dataframe tbody tr th:only-of-type {\n",
       "        vertical-align: middle;\n",
       "    }\n",
       "\n",
       "    .dataframe tbody tr th {\n",
       "        vertical-align: top;\n",
       "    }\n",
       "\n",
       "    .dataframe thead th {\n",
       "        text-align: right;\n",
       "    }\n",
       "</style>\n",
       "<table border=\"1\" class=\"dataframe\">\n",
       "  <thead>\n",
       "    <tr style=\"text-align: right;\">\n",
       "      <th></th>\n",
       "      <th>sepal length (cm)</th>\n",
       "      <th>sepal width (cm)</th>\n",
       "      <th>petal length (cm)</th>\n",
       "      <th>petal width (cm)</th>\n",
       "      <th>target</th>\n",
       "    </tr>\n",
       "  </thead>\n",
       "  <tbody>\n",
       "    <tr>\n",
       "      <th>142</th>\n",
       "      <td>5.8</td>\n",
       "      <td>2.7</td>\n",
       "      <td>5.1</td>\n",
       "      <td>1.9</td>\n",
       "      <td>2</td>\n",
       "    </tr>\n",
       "  </tbody>\n",
       "</table>\n",
       "</div>"
      ],
      "text/plain": [
       "     sepal length (cm)  sepal width (cm)  petal length (cm)  petal width (cm)  \\\n",
       "142                5.8               2.7                5.1               1.9   \n",
       "\n",
       "     target  \n",
       "142       2  "
      ]
     },
     "metadata": {},
     "output_type": "display_data"
    },
    {
     "name": "stdout",
     "output_type": "stream",
     "text": [
      "iris_df_drop_dup shape: (149, 5)\n",
      "iris_df shape: (150, 5)\n",
      "iris_df shape: (149, 5) *drop_duplicates(inplace=True)\n"
     ]
    },
    {
     "data": {
      "text/html": [
       "<div>\n",
       "<style scoped>\n",
       "    .dataframe tbody tr th:only-of-type {\n",
       "        vertical-align: middle;\n",
       "    }\n",
       "\n",
       "    .dataframe tbody tr th {\n",
       "        vertical-align: top;\n",
       "    }\n",
       "\n",
       "    .dataframe thead th {\n",
       "        text-align: right;\n",
       "    }\n",
       "</style>\n",
       "<table border=\"1\" class=\"dataframe\">\n",
       "  <thead>\n",
       "    <tr style=\"text-align: right;\">\n",
       "      <th></th>\n",
       "      <th>sepal length (cm)</th>\n",
       "      <th>sepal width (cm)</th>\n",
       "      <th>petal length (cm)</th>\n",
       "      <th>petal width (cm)</th>\n",
       "      <th>target</th>\n",
       "    </tr>\n",
       "  </thead>\n",
       "  <tbody>\n",
       "    <tr>\n",
       "      <th>0</th>\n",
       "      <td>5.1</td>\n",
       "      <td>3.5</td>\n",
       "      <td>1.4</td>\n",
       "      <td>0.2</td>\n",
       "      <td>0</td>\n",
       "    </tr>\n",
       "    <tr>\n",
       "      <th>1</th>\n",
       "      <td>4.9</td>\n",
       "      <td>3.0</td>\n",
       "      <td>1.4</td>\n",
       "      <td>0.2</td>\n",
       "      <td>0</td>\n",
       "    </tr>\n",
       "    <tr>\n",
       "      <th>2</th>\n",
       "      <td>4.7</td>\n",
       "      <td>3.2</td>\n",
       "      <td>1.3</td>\n",
       "      <td>0.2</td>\n",
       "      <td>0</td>\n",
       "    </tr>\n",
       "    <tr>\n",
       "      <th>3</th>\n",
       "      <td>4.6</td>\n",
       "      <td>3.1</td>\n",
       "      <td>1.5</td>\n",
       "      <td>0.2</td>\n",
       "      <td>0</td>\n",
       "    </tr>\n",
       "    <tr>\n",
       "      <th>4</th>\n",
       "      <td>5.0</td>\n",
       "      <td>3.6</td>\n",
       "      <td>1.4</td>\n",
       "      <td>0.2</td>\n",
       "      <td>0</td>\n",
       "    </tr>\n",
       "    <tr>\n",
       "      <th>...</th>\n",
       "      <td>...</td>\n",
       "      <td>...</td>\n",
       "      <td>...</td>\n",
       "      <td>...</td>\n",
       "      <td>...</td>\n",
       "    </tr>\n",
       "    <tr>\n",
       "      <th>144</th>\n",
       "      <td>6.7</td>\n",
       "      <td>3.0</td>\n",
       "      <td>5.2</td>\n",
       "      <td>2.3</td>\n",
       "      <td>2</td>\n",
       "    </tr>\n",
       "    <tr>\n",
       "      <th>145</th>\n",
       "      <td>6.3</td>\n",
       "      <td>2.5</td>\n",
       "      <td>5.0</td>\n",
       "      <td>1.9</td>\n",
       "      <td>2</td>\n",
       "    </tr>\n",
       "    <tr>\n",
       "      <th>146</th>\n",
       "      <td>6.5</td>\n",
       "      <td>3.0</td>\n",
       "      <td>5.2</td>\n",
       "      <td>2.0</td>\n",
       "      <td>2</td>\n",
       "    </tr>\n",
       "    <tr>\n",
       "      <th>147</th>\n",
       "      <td>6.2</td>\n",
       "      <td>3.4</td>\n",
       "      <td>5.4</td>\n",
       "      <td>2.3</td>\n",
       "      <td>2</td>\n",
       "    </tr>\n",
       "    <tr>\n",
       "      <th>148</th>\n",
       "      <td>5.9</td>\n",
       "      <td>3.0</td>\n",
       "      <td>5.1</td>\n",
       "      <td>1.8</td>\n",
       "      <td>2</td>\n",
       "    </tr>\n",
       "  </tbody>\n",
       "</table>\n",
       "<p>149 rows × 5 columns</p>\n",
       "</div>"
      ],
      "text/plain": [
       "     sepal length (cm)  sepal width (cm)  petal length (cm)  petal width (cm)  \\\n",
       "0                  5.1               3.5                1.4               0.2   \n",
       "1                  4.9               3.0                1.4               0.2   \n",
       "2                  4.7               3.2                1.3               0.2   \n",
       "3                  4.6               3.1                1.5               0.2   \n",
       "4                  5.0               3.6                1.4               0.2   \n",
       "..                 ...               ...                ...               ...   \n",
       "144                6.7               3.0                5.2               2.3   \n",
       "145                6.3               2.5                5.0               1.9   \n",
       "146                6.5               3.0                5.2               2.0   \n",
       "147                6.2               3.4                5.4               2.3   \n",
       "148                5.9               3.0                5.1               1.8   \n",
       "\n",
       "     target  \n",
       "0         0  \n",
       "1         0  \n",
       "2         0  \n",
       "3         0  \n",
       "4         0  \n",
       "..      ...  \n",
       "144       2  \n",
       "145       2  \n",
       "146       2  \n",
       "147       2  \n",
       "148       2  \n",
       "\n",
       "[149 rows x 5 columns]"
      ]
     },
     "metadata": {},
     "output_type": "display_data"
    }
   ],
   "source": [
    "display(iris_df[iris_df.duplicated()])\n",
    "\n",
    "iris_df_drop_dup = iris_df.drop_duplicates()  # iris_df 원본은 변경되지 않음\n",
    "print('iris_df_drop_dup shape:', iris_df_drop_dup.shape)\n",
    "print('iris_df shape:', iris_df.shape)\n",
    "\n",
    "# iris_df = iris_df.drop_duplicates()  # iris_df 원본에 수정된 값을 덮어 씀 \n",
    "iris_df.drop_duplicates(inplace=True)  # iris_df 원본에 수정된 값을 덮어 씀 \n",
    "print('iris_df shape:', iris_df.shape, '*drop_duplicates(inplace=True)')\n",
    "\n",
    "iris_df.reset_index(drop=True, inplace=True)\n",
    "display(iris_df)"
   ]
  },
  {
   "cell_type": "markdown",
   "id": "9ac84a97-7d44-4553-a79c-faf0f8341c18",
   "metadata": {},
   "source": [
    "### C. 데이터 시각화"
   ]
  },
  {
   "cell_type": "markdown",
   "id": "5491103c-0607-4f79-a00d-8fb3b41486c6",
   "metadata": {},
   "source": [
    "데이터 시각화를 위해서 많이 사용하는 `matplotlib.pyplot`와 `seaborn` 라이브러리들을 활용하여 데이터를 다각도로 살펴보겠습니다. 모듈을 `import`한 후에 `as` 뒤에 사용하는 `plt`와 `sns`는 많은 사람들이 관습적으로 사용하는 이름이니 고민 없이 따라가시면 됩니다."
   ]
  },
  {
   "cell_type": "code",
   "execution_count": 14,
   "id": "668ebbf9-64d0-4157-93c9-12dfec650aed",
   "metadata": {},
   "outputs": [],
   "source": [
    "import matplotlib.pyplot as plt\n",
    "import seaborn as sns"
   ]
  },
  {
   "cell_type": "markdown",
   "id": "e57e0910-f547-4d10-a03a-c7dbd5f040f4",
   "metadata": {},
   "source": [
    "가장 먼저 각 feature 데이터의 분포를 히스토그램으로 살펴보겠습니다. 확인하고 싶은 feature를 `x` 옵션으로 지정한 후, 가로축(x)으로 나뉜 구간에 포함되는 데이터의 개수를 막대그래프로 표현한 것입니다. 가로축으로 자르는 구간의 개수는 `bins` 옵션에서 설정할 수 있습니다. `matplotlib.pyplot`과 `seaborn` 모듈의 사용법은 각각 아래와 같습니다. "
   ]
  },
  {
   "cell_type": "code",
   "execution_count": 15,
   "id": "c0f37a4a-ec63-4e9b-a0a1-c900420bb3bf",
   "metadata": {},
   "outputs": [
    {
     "data": {
      "image/png": "[encoded data removed]",
      "text/plain": [
       "<Figure size 432x288 with 1 Axes>"
      ]
     },
     "metadata": {
      "needs_background": "light"
     },
     "output_type": "display_data"
    }
   ],
   "source": [
    "plt.hist(x='sepal length (cm)', bins=10, data=iris_df)\n",
    "plt.show()"
   ]
  },
  {
   "cell_type": "code",
   "execution_count": 16,
   "id": "46e2930e-1c0c-473b-8358-28438b8e7059",
   "metadata": {},
   "outputs": [
    {
     "data": {
      "image/png": "[encoded data removed]",
      "text/plain": [
       "<Figure size 360x360 with 1 Axes>"
      ]
     },
     "metadata": {
      "needs_background": "light"
     },
     "output_type": "display_data"
    }
   ],
   "source": [
    "sns.displot(x='sepal length (cm)', kind='hist', bins=10, data=iris_df)\n",
    "plt.show()"
   ]
  },
  {
   "cell_type": "markdown",
   "id": "d5c9d11b-198b-4f7b-b3bc-17ae64bb932c",
   "metadata": {},
   "source": [
    "`seaborn.displot()`에는 추가적으로 유용한 기능을 `kind` 옵션으로 쉽게 구현할 수 있도록 제공하고 있습니다. `kind` 옵션은 `'hist'`, `'kde'`, `'ecdf'` 이렇게 세 가지를 사용할 수 있습니다.  \n",
    "`'kde'`는 kernel density estimate (kernel 밀도 추정)의 약자로 kernel 함수를 이용해서 히스토그램을 부드럽게 변화하도록 추정하는 것을 말합니다. 위에서 `'hist'` 옵션으로 그련 `'sepal length (cm)'`의 들쑥날쑥한 모습이 부드럽게 이어지는 것을 확인할 수 있습니다. 대체적인 경향성을 파악하는데 유용하게 사용할 수 있습니다.  \n",
    "`'ecdf'`는 empirical cumulative distribution functions (경험적 누적 분포 함수)의 약자로 히스토그램에서 특정 값(가로축)보다 작거나 같은 데이터의 비율을 세로축으로 표현합니다. 그래서 그래프의 가장 왼쪽에 0에서 시작해서 오른쪽으로 이동하면서 분포 비율에 따라 점점 커지다가 가장 오른쪽에 도달하면 전체 데이터 1의 값을 갖는 것을 확인할 수 있습니다."
   ]
  },
  {
   "cell_type": "code",
   "execution_count": 17,
   "id": "fcbb8fe7-8dbe-4ff0-b1bd-6091b4f21f9b",
   "metadata": {},
   "outputs": [
    {
     "data": {
      "image/png": "[encoded data removed]",
      "text/plain": [
       "<Figure size 360x360 with 1 Axes>"
      ]
     },
     "metadata": {
      "needs_background": "light"
     },
     "output_type": "display_data"
    }
   ],
   "source": [
    "sns.displot(x='sepal length (cm)', kind='kde', data=iris_df)\n",
    "plt.show()"
   ]
  },
  {
   "cell_type": "code",
   "execution_count": 18,
   "id": "bc2d5299-878e-4ba8-9049-f36308cf3f0d",
   "metadata": {},
   "outputs": [
    {
     "data": {
      "image/png": "[encoded data removed]",
      "text/plain": [
       "<Figure size 360x360 with 1 Axes>"
      ]
     },
     "metadata": {
      "needs_background": "light"
     },
     "output_type": "display_data"
    }
   ],
   "source": [
    "sns.displot(x='sepal length (cm)', kind='ecdf', data=iris_df)\n",
    "plt.show()"
   ]
  },
  {
   "cell_type": "markdown",
   "id": "4501e579-97cf-4a88-8b5b-e8c0184a7124",
   "metadata": {},
   "source": [
    "`seaborn.displot()`의 `hue` 옵션을 잘 활용하면 카테고리별 분포를 손쉽게 시각화할 수 있습니다. 앞서 표현한 `'sepal length (cm)'`의 kernel 밀도 추정 kde 그래프는 3가지 붓꽃 품종이 모두 합쳐진 상태로 그린 그래프입니다. 여기에 `hue` 옵션으로 품종 라벨인 `'target'`을 넣어주면 품좀에 따른 kde 그래프를 따로 그린 후 overlay해서 표현해줍니다. 참고로 `hue`는 사전적으로 빛깔이나 색조를 의미하며, 이 의미대로 그래프에 색깔별로 나누어 표현됩니다."
   ]
  },
  {
   "cell_type": "code",
   "execution_count": 19,
   "id": "9ee829fc-4596-4103-98a3-04bf4e2e56a6",
   "metadata": {},
   "outputs": [
    {
     "data": {
      "image/png": "[encoded data removed]",
      "text/plain": [
       "<Figure size 402.375x360 with 1 Axes>"
      ]
     },
     "metadata": {
      "needs_background": "light"
     },
     "output_type": "display_data"
    }
   ],
   "source": [
    "sns.displot(x='sepal length (cm)', kind='kde', hue='target', data=iris_df)\n",
    "plt.show()"
   ]
  },
  {
   "cell_type": "markdown",
   "id": "ef57b1d3-f116-454c-b24b-93dac3e5ff43",
   "metadata": {},
   "source": [
    "위 그래프를 해석해봅시다. 품종 라벨 0, 1, 2 순서 즉, `'setosa'` `'versicolor'` `'virginica'` 순서로 각 품종별 `'sepal length (cm)'`의 평균이 커지면서 분포가 오른쪽으로 이동하는 것을 확인할 수 있습니다. 즉, `'septal length (cm)'`은 붓꽃의 품종을 구별하는데 중요한 특성 (feature)으로 사용될 수 있다는 것을 의미합니다. "
   ]
  },
  {
   "cell_type": "markdown",
   "id": "5f06b93e-93ac-4d73-bdd1-6e8db64254b8",
   "metadata": {},
   "source": [
    "이를 좀더 확장해서 다양한 feature들 사이의 상관 관계를 한번에 살펴보기 위해서 `seaborn.pairplot()`을 사용하면 극적인 효과를 얻을 수 있습니다. 숫자값을 가지는 feature들 중에 2개를 골라 가로축과 세로축의 pair로써 가능한 모든 조합을 그래프로 표현하는데, 예를 들어 iris 데이터셋에는 4개의 숫자 feature가 있으므로 가로축과 세로축에 각각 4개의 feature를 위치하여 총 4 x 4 = 16가지 pair 조합을 구성합니다. 각 feature의 값을 각각 가로축과 세로축의 값으로 나타내면 평면에 한점으로 나타나며, 모든 샘플에 대해 동일한 방법으로 점들로 나타내면 scatter plot으로 표현할 수 있습니다. 이렇게 서로 다른 두 feature 사이의 상관 관계를 시각화할 수 있습니다. 여기에 `hue` 옵션으로 붓꽃 품종에 해당하는 `'target'`을 넣으면 각 품종별로 다른 색깔로 그래프를 그려 줍니다. 추가로 가로축과 세로축이 동일한 변수에 대한 scatter plot은 단순 일직선으로 특별한 의미가 없으므로 대각선 위치에는 kde 그래프를 그려서 해당 feature의 분포를 부드러운 히스토그램으로 표현해줍니다. 붓꽃 품종에 따른 가로축의 분포가 kde 그래프의 histogram으로 표현된다고 생각할 수 있습니다.  "
   ]
  },
  {
   "cell_type": "code",
   "execution_count": 20,
   "id": "aae3146c-ff6e-4231-bb2a-9696e7a94bc8",
   "metadata": {},
   "outputs": [
    {
     "data": {
      "image/png": "[encoded data removed]",
      "text/plain": [
       "<Figure size 762.375x720 with 20 Axes>"
      ]
     },
     "metadata": {
      "needs_background": "light"
     },
     "output_type": "display_data"
    }
   ],
   "source": [
    "sns.pairplot(iris_df, diag_kind='kde', hue='target')\n",
    "plt.show()"
   ]
  },
  {
   "cell_type": "markdown",
   "id": "f5b677ea-af7a-4aab-8259-8431dda27a26",
   "metadata": {},
   "source": [
    "제 아무리 눈이 휘둥그레 해지는 그림이더라도 이를 통해 우리에게 필효한 정보를 얼마나 얻을 수 있는지가 더 중요합니다. 아래의 그래프에선 가장 먼저 눈에 띄는 것은 라벨 0번인 'setosa'를 나타내는 밝은 점들은 모든 특성에서 다른 두 품종과는 분명하게 구별될 수 있다는 것입니다. 즉, 네 가지 입력 정보 모두 'setosa' 붓꽃의 품종을 추론하는데 중요한 요소로 사용될 수 있다는 것을 모든 그래프에서 한번에 확인할 수 있습니다. 그러므로 특성에 따라 정도의 차이가 있겠지만, 우리가 가진 네 가지 특성 모두 학습에 포함해야 겠다는 결론을 얻을 수 있습니다. 마찬가지로 라벨 1번인 'versicolor'와 라벨 2번인 'virginica'는 분류할 수 있는 경계를 분명하게 정하기 힘들어서 학습 과정에서 분류 오류가 생길 수 있겠다고 느낄 수 있습니다. 이런 경우, 우리가 가지고 있는 입력 정보들을 활용해서 새로운 특성을 만들어 내던지, 붓꽃 종류에 따른 색깔 등 전혀 다른 특성을 수집하는 것이 필요합니다."
   ]
  },
  {
   "cell_type": "markdown",
   "id": "931fe14f-0af8-4094-9341-c31c424b0883",
   "metadata": {},
   "source": [
    "https://en.wikipedia.org/wiki/Pearson_correlation_coefficient  \n",
    "![](https://storage.googleapis.com/bj-lecture-image/sseken/sklearn_iris/506px-Correlation_examples2.svg.png)"
   ]
  },
  {
   "cell_type": "markdown",
   "id": "081edc0c-c247-483c-beaa-dad5f2638f05",
   "metadata": {},
   "source": [
    "위에서 살펴본 scatter plot를 통해 두 feature들 사이의 상관 관계를 시각화할 수 있습니다. `df.corr()` 메서드를 통해 두 feature 사이의 선형적 관계의 강도를 correlation 값으로 정량적으로 계산할 수 있으며 이 값들을 `seaborn.heatmap()` 메서드로 한 눈에 볼 수 있도록 시각화할 수 있습니다. 위의 상관관계 예제 그림에서 볼 수 있는 것처럼 상관 관계 값이 양수이면 하나의 변수가 증가할수록 다른 변수도 함께 증가하는 경향을 보이며, 반대로 상관 관계 값이 음수이면 하나의 변수가 증가할수록 다른 변수는 감소하는 경향을 보인다는 의미입니다. Correlation 값이 0에 가까워질수로 두 변수 사이의 연관 관계가 낮아지는 것을 볼 수 있습니다.  \n",
    "Correlation의 최대 최소 값은 각각 1, -1인데 절대값이 클수록 연관성의 강도가 커집니다. 두 값이 사이의 변화 비율을 의미하지 않고 선형성의 의미만 존재합니다.  `seaborn.heatmap()`의 `'cmap'` 옵션을 통해 색깔의 변화를 잘 표현할 수 있는 다양한 선택이 가능합니다. 이번 예제에서는 `'RdYlBu_r'` colormap을 이용해서 강한 양의 상관관계를 가질수록 진한 빨강으로, 강한 음의 상관관계를 가질수록 진한 파랑으로 표현했습니다. 이때, 상관관계의 최대 최소값이 각각 1과 -1로 정해져 있으므로 `vmax`, `vmin` 옵션을 이용하여 색깔 범위를 최대 최소값으로 지정해줬습니다.  "
   ]
  },
  {
   "cell_type": "code",
   "execution_count": 21,
   "id": "536e0462-2173-47e8-b1ab-ace57c8f409e",
   "metadata": {},
   "outputs": [
    {
     "data": {
      "image/png": "[encoded data removed]",
      "text/plain": [
       "<Figure size 432x288 with 2 Axes>"
      ]
     },
     "metadata": {
      "needs_background": "light"
     },
     "output_type": "display_data"
    }
   ],
   "source": [
    "sns.heatmap(iris_df.iloc[:, :-1].corr(), annot=True, cmap='RdYlBu_r', vmax=1, vmin=-1)\n",
    "plt.show()"
   ]
  },
  {
   "cell_type": "markdown",
   "id": "8034177b-eed8-4642-a9b1-e4e164ae6c03",
   "metadata": {},
   "source": [
    "눈치채셨을 수 있겠지만, 상관 관계는 두 feature의 순서와는 관계가 없으므로 4번째 row, 3번째 column의 값은 3번째 row, 4번째 column의 값과 동일하므로 대각선 왼쪽 위에서 오른쪽 아래로 내려가는 diagonal한 선으로 접으면 대칭입니다. 위의 `seaborn.pairplot()`의 경우에도 비슷한 패턴을 찾을 수 있는데, 상대가 되는 두 그래프는 'y = x' 직선에 대해 대칭이동된 모습입니다. 눈을 크게 뜨고 살펴보면 보인답니다.  \n",
    "\n",
    "이렇게 특성 간에 연관관계를 알아보는 heatmap을 통해 우리가 알아낼 수 있는 정보를 정리해봅시다. 가장 눈에 띄는 정보는 `'petal length (cm)'`과 `'petal width (cm)'` 둘 사이에는 아주 높은 양의 상관관계를 갖는다는 것입니다. 위의 `seaborn.heatmap()` 그래프에서 4번째 row, 3번째 column에 +0.96 이라는 최대값으로 계산됩니다. 즉, 이 두 가지 특성은 하나의 값이 변하면 그에 따라 종속적으로 다른 값도 함께 변하는 경향이 있다는 의미입니다. 이런 모습은 위에서 그린 `seaborn.pairplot()` 그래프에서 4번째 row, 3번째 column은 가로축 `'petal length (cm)'`와 세로축 `'petal width (cm)'` 사이의 관계에서도 관찰됩니다. 가로축 `'petal length (cm)'`가 증가함에 따라 세로축 `'petal width (cm)'`가 함께 증가하는 모습이 강하게 나타나며, 붓꽃의 품종인 'target'에 따라 절대적인 크기가 달라서 평면 상에서 확연히 구분되지만, 세 품종 모두 동일한 경향을 보이는 것을 확인할 수 있습니다. 이런 강한 상관관계로 인해 실제 학습을 한 후에 중요도를 평가해보면 둘 중에 한 값만 중요하게 나타날 것 같습니다 (추후에 모델링이 끝나면 `model.feature_importance_`로 다시 확인하겠습니다).  \n",
    "반면, `'septal width (cm)'`의 경우에는 다른 특성들과 약한 음의 상관관계를 가지고 있기 때문에 노란색 또는 푸른색 계열의 색을 띄고 있는 것을 확인할 수 있습니다. 둘 중 하나일 것 같은데, 첫째로 `'septal width (cm)'`은 다른 변수들과 독립적으로 움직이기 때문에 아주 중요한 변수이거나, 둘째로 \n",
    " `'septal width (cm)'`은 품종 분류에 거의 관여하지 않는 멍텅구리 변수일 것 같습니다. 그런데 위에서 그린 `seaborn.pairplot()` 그래프에서 `'septal width (cm)'`을 뜻하는 2번째 column의 가로축 또는 2번째 row의 세로축을 살펴보면 이 변수로는 붓꽃 품종을 뜻하는 색깔 점들을 구분하기 어렵다는 것을 확인할 수 있습니다. 이런 상황을 고려해볼 때 `'septal width (cm)'`은 모델 평가에서 그리 중요하지 않은 특성일 것 같습니다 (역시, 추후에 모델이 끝나면 `model.feature_importance_`로 다시 확인하겠습니다). "
   ]
  },
  {
   "cell_type": "markdown",
   "id": "601d068a-d6e6-488a-907d-32d89375a42c",
   "metadata": {},
   "source": [
    "## 4.1.3 데이터 분할"
   ]
  },
  {
   "cell_type": "markdown",
   "id": "17f42d39-9001-451c-9564-be0c53db80ac",
   "metadata": {},
   "source": [
    "### A. 입력 정보와 답안지의 분할"
   ]
  },
  {
   "cell_type": "markdown",
   "id": "14129b27-f372-43c9-be02-59b4335c1810",
   "metadata": {},
   "source": [
    "각 데이터를 살펴보면서 학습에 사용할 데이터의 특성파악과 선택이 마무리 되었으면 샘플별 입력 정보를 `x`로 모으고, 각 샘플별 답안지를 `y`로 모아서 학습을 시작합니다. 그러면 머신러닝은 기본적으로 `y = ax + b` 의 형태로써 모델을 구성하는데, 실제 측정을 하거나 수집한 정보 `x`를 바탕으로 정답 `y`를 가장 잘 맞출 수 있는 `a`와 `b`를 찾는 과정을 진행합니다. 이 과정에서 모델 나름대로 `a`, `b`를 제안하면, 주어진 입력 정보 `x`를 통해 추정 답안지 `y_pred = ax + b` 를 만들게 됩니다. 이 추정 답안지 `y_pred`를 실제 답안지 `y`와 비교하여 틀린 오차를 최소로 줄이는 방향으로 `a`, `b`를 업데이트하되, 입력된 모든 데이터에 대해 여러 번에 걸쳐 조정하는 것입니다. 이처럼 지도 학습의 경우에는 입력 정보뿐만 아니라 답안지도 함께 주어져 있으므로, 우리가 실제 학교 공부를 할 때와 아주 비슷한 방법으로 추정 모델을 만듭니다. 수 많은 문제집을 풀면서 다양한 형태의 문제를 접하고, 채점 후 틀린 문제는 오답노트를 만들면서 열심히 공부한 친구들이 결국 학업 성취도를 평가 받는 실제 시험에서 좋은 성적을 받을 수 밖에 없겠죠.  \n",
    "우리가 지금 풀고 있는 붓꽃 품종 분류 문제는 이런 지도학습의 가장 대표적인 예제 중 하나로, 붓꽃 꽃잎(petal)과 꽃받침(sepal)의 폭(width)와 길이(length)를 측정한 네 가지 입력 정보를 바탕으로 세 가지 종류의 품종으로 분류하는 문제입니다. 중복을 제거한 총 149개의 샘플에 대한 네 가지 입력 정보를 `'x_info'`라 하고, 붓꽃의 종류 setosa, versicolor, virginica를 각각 0, 1, 2라고 라벨링한 답안지를 `'y_answer'`라고 합니다."
   ]
  },
  {
   "cell_type": "code",
   "execution_count": 22,
   "id": "3168cd83-8302-4b19-b227-cd9495040cae",
   "metadata": {},
   "outputs": [
    {
     "data": {
      "text/html": [
       "<div>\n",
       "<style scoped>\n",
       "    .dataframe tbody tr th:only-of-type {\n",
       "        vertical-align: middle;\n",
       "    }\n",
       "\n",
       "    .dataframe tbody tr th {\n",
       "        vertical-align: top;\n",
       "    }\n",
       "\n",
       "    .dataframe thead th {\n",
       "        text-align: right;\n",
       "    }\n",
       "</style>\n",
       "<table border=\"1\" class=\"dataframe\">\n",
       "  <thead>\n",
       "    <tr style=\"text-align: right;\">\n",
       "      <th></th>\n",
       "      <th>sepal length (cm)</th>\n",
       "      <th>sepal width (cm)</th>\n",
       "      <th>petal length (cm)</th>\n",
       "      <th>petal width (cm)</th>\n",
       "    </tr>\n",
       "  </thead>\n",
       "  <tbody>\n",
       "    <tr>\n",
       "      <th>0</th>\n",
       "      <td>5.1</td>\n",
       "      <td>3.5</td>\n",
       "      <td>1.4</td>\n",
       "      <td>0.2</td>\n",
       "    </tr>\n",
       "    <tr>\n",
       "      <th>1</th>\n",
       "      <td>4.9</td>\n",
       "      <td>3.0</td>\n",
       "      <td>1.4</td>\n",
       "      <td>0.2</td>\n",
       "    </tr>\n",
       "    <tr>\n",
       "      <th>2</th>\n",
       "      <td>4.7</td>\n",
       "      <td>3.2</td>\n",
       "      <td>1.3</td>\n",
       "      <td>0.2</td>\n",
       "    </tr>\n",
       "    <tr>\n",
       "      <th>3</th>\n",
       "      <td>4.6</td>\n",
       "      <td>3.1</td>\n",
       "      <td>1.5</td>\n",
       "      <td>0.2</td>\n",
       "    </tr>\n",
       "    <tr>\n",
       "      <th>4</th>\n",
       "      <td>5.0</td>\n",
       "      <td>3.6</td>\n",
       "      <td>1.4</td>\n",
       "      <td>0.2</td>\n",
       "    </tr>\n",
       "    <tr>\n",
       "      <th>...</th>\n",
       "      <td>...</td>\n",
       "      <td>...</td>\n",
       "      <td>...</td>\n",
       "      <td>...</td>\n",
       "    </tr>\n",
       "    <tr>\n",
       "      <th>144</th>\n",
       "      <td>6.7</td>\n",
       "      <td>3.0</td>\n",
       "      <td>5.2</td>\n",
       "      <td>2.3</td>\n",
       "    </tr>\n",
       "    <tr>\n",
       "      <th>145</th>\n",
       "      <td>6.3</td>\n",
       "      <td>2.5</td>\n",
       "      <td>5.0</td>\n",
       "      <td>1.9</td>\n",
       "    </tr>\n",
       "    <tr>\n",
       "      <th>146</th>\n",
       "      <td>6.5</td>\n",
       "      <td>3.0</td>\n",
       "      <td>5.2</td>\n",
       "      <td>2.0</td>\n",
       "    </tr>\n",
       "    <tr>\n",
       "      <th>147</th>\n",
       "      <td>6.2</td>\n",
       "      <td>3.4</td>\n",
       "      <td>5.4</td>\n",
       "      <td>2.3</td>\n",
       "    </tr>\n",
       "    <tr>\n",
       "      <th>148</th>\n",
       "      <td>5.9</td>\n",
       "      <td>3.0</td>\n",
       "      <td>5.1</td>\n",
       "      <td>1.8</td>\n",
       "    </tr>\n",
       "  </tbody>\n",
       "</table>\n",
       "<p>149 rows × 4 columns</p>\n",
       "</div>"
      ],
      "text/plain": [
       "     sepal length (cm)  sepal width (cm)  petal length (cm)  petal width (cm)\n",
       "0                  5.1               3.5                1.4               0.2\n",
       "1                  4.9               3.0                1.4               0.2\n",
       "2                  4.7               3.2                1.3               0.2\n",
       "3                  4.6               3.1                1.5               0.2\n",
       "4                  5.0               3.6                1.4               0.2\n",
       "..                 ...               ...                ...               ...\n",
       "144                6.7               3.0                5.2               2.3\n",
       "145                6.3               2.5                5.0               1.9\n",
       "146                6.5               3.0                5.2               2.0\n",
       "147                6.2               3.4                5.4               2.3\n",
       "148                5.9               3.0                5.1               1.8\n",
       "\n",
       "[149 rows x 4 columns]"
      ]
     },
     "metadata": {},
     "output_type": "display_data"
    },
    {
     "data": {
      "text/plain": [
       "0      0\n",
       "1      0\n",
       "2      0\n",
       "3      0\n",
       "4      0\n",
       "      ..\n",
       "144    2\n",
       "145    2\n",
       "146    2\n",
       "147    2\n",
       "148    2\n",
       "Name: target, Length: 149, dtype: int64"
      ]
     },
     "metadata": {},
     "output_type": "display_data"
    }
   ],
   "source": [
    "x_info = iris_df.iloc[:, :-1]\n",
    "display(x_info)\n",
    "\n",
    "y_answer = iris_df.iloc[:, -1]\n",
    "display(y_answer)"
   ]
  },
  {
   "cell_type": "markdown",
   "id": "e65a6942-b30e-4cf4-86d2-c893fa8191fa",
   "metadata": {},
   "source": [
    "### B. 과적합 Overfitting "
   ]
  },
  {
   "cell_type": "markdown",
   "id": "523ae904-71c0-46dc-aa24-5a31be1676f4",
   "metadata": {},
   "source": [
    "우리는 이제 입력 정보와 함께 각 조건에 해당하는 답안지 정보까지 pair로 확보하여 붓꽃 데이터를 지도 학습에 적용하기 직전까지 도달했습니다. 이 붓꽃 데이터는 운 좋게도 `sklearn.datasets` 모듈로부터 간단히 load해서 사용할 수 있었습니다. 하지만, 실제 많은 경우에 지도 학습을 위한 데이터를 확보하기 위해서는 수많은 시간과 돈이라는 resource가 들어갑니다. 특히, 정확한 답안지를 만들기 위해서는 해당 도메인의 전문가가 한땀 한땀 판별을 해줘야 합니다. 붓꽃 데이터의 경우에도 하나하나 꽃잎과 꽃받침의 길이와 폭을 눈금자로 측정해서 데이터를 얻고, 판별 전문가가 일일이 품종을 분류했다고 생각한다면 그 과정은 그리 쉬운 상황은 아닐 겁니다. 이렇게 어렵사리 구한 데이터는 당연히 하나도 빠짐없이 학습시켜야겠죠? 정답은 노! 그렇지 않습니다. 어떤 의미인지 천천히 살펴보겠습니다."
   ]
  },
  {
   "cell_type": "markdown",
   "id": "7a12ae47-3812-452c-b220-e06a7a102702",
   "metadata": {},
   "source": [
    "https://en.wikipedia.org/wiki/Overfitting  \n",
    "![](https://storage.googleapis.com/bj-lecture-image/sseken/sklearn_iris/overfitting.png)"
   ]
  },
  {
   "cell_type": "markdown",
   "id": "4603ea3b-fb05-451b-bb34-baeac59bbb66",
   "metadata": {},
   "source": [
    "우리가 인공지능 모델을 만드는 이유는 주어진 입력 정보가 복잡하게 얽혀 있어서 그 안에 규칙을 한눈에 찾기 어렵기 때문입니다. 알고 있는 입력 정보들의 복잡한 연관 관계를 모두 이해하지 못하더라도, 주어진 상황에서의 결과를 손쉽게 추정하기 위함입니다. 그 과정에서 알고 있는 입력 정보들로 인공지능 학습을 시키게 되는데, 데이터가 충분하지 않거나 풀고자하는 문제에 비해 지나치게 복잡한 모델을 적용하는 잘못으로 인해 전체적인 경향보다 경계 또는 일부분의 상황에 따라 결과가 크게 변화하는 경우를 쉽게 볼 수 있습니다. 이런 상황을 **'과적합 overfitting'** 되었다고 말합니다. 예를 들어, 왼쪽 그림에서 보는 것처럼 파란색과 빨간색을 분류하고 싶은 문제에서 경계에 있는 몇몇 점들을 무시하고 검은색 선으로 전체적인 경향으로 분류를 해야하는데, 한 점이라도 놓치지 않겠다는 욕심에 초록색 곡선처럼 복잡한 모델이 만들어지는 상태를 말합니다. 만약 실제 추정해야하는 미지의 데이터가 경계에 있었다면 초록색의 구불거리는 경계로 인해 엉뚱한 값으로 분류될 수 있습니다. 이와 마찬가지로, 오른쪽 그림에서 보는 것처럼 검은색 점들의 추세를 파악하는 회귀의 문제에서 1차원 검은색 직선으로 추정하면 간단한 상황을 주어진 모든 입력정보를 완벽하게 맞추려고 무리한 나머지 파란색의 다차원 곡선으로 추정함으로써 그 중간 값들이 엉뚱한 값들을 갖게 되는 상태가 있을 수 있습니다. 예를 들어, 가로축으로 -4.5일 때의 추정값을 구하면 검은색 1차원 추세선으로 추정하면 대략 -12정도의 값을 갖는 반면, 파란색 다차원 추세선으로 추정하면 세로축의 12라는 말도 안되는 값으로 추정하게 되는 것이죠. 이런 과적합을 피하기 위해서는 실제 우리가 만든 모델이 지나치게 과적합 되지 않고, 범용적이고 일반적인 값으로 추론할 수 있는지 판단하는 과정이 필수적입니다. 그런데 입력 정보와 답안지 정보가 pair로 확보된 데이터를 모두 학습에 사용해버리면 실제 우리가 만든 모델이 얼마나 범용적으로 적용할 수 있는 모델인지 판단할 데이터가 남아있지 않게 됩니다. 그러므로 한땀 한땀 비싸게 수집한 데이터라도 일부는 학습에 사용하지 않고 남겨두어야만 그 모델이 정답을 모르는 실전에서 어떻게 동작할지 알고 있는 답안지와 객관적으로 비교할 수 있는 기준이 되는 것입니다. 이렇게 확보한 전체 데이터 중에 학습에 사용하는 샘플들을 'train 데이터', 모델의 성능검증에 사용할 샘플들을 'test 데이터'라고 부릅니다. "
   ]
  },
  {
   "cell_type": "markdown",
   "id": "c32343d6-601a-45a4-85fd-76b9d938cb82",
   "metadata": {},
   "source": [
    "### C. Train test split"
   ]
  },
  {
   "cell_type": "markdown",
   "id": "0e220c16-de0e-4470-a2d6-c61ee41df2db",
   "metadata": {},
   "source": [
    "![](https://storage.googleapis.com/bj-lecture-image/sseken/sklearn_iris/train_test_split_figure2.png)"
   ]
  },
  {
   "cell_type": "markdown",
   "id": "55041758-d5e3-4ed5-972e-92acd08e9851",
   "metadata": {},
   "source": [
    "주어진 모든 데이터를 학습에 포함시키면 모델의 성능이 더 좋아질 수 있겠지만, 인공지능으로 학습시킨 데이터는 쉽게 과적합이 일어나기 때문에 주어진 데이터에만 적합한, 편협한 biased 모델이 될 수 있습니다. 다시 말해서 학습 과정에서 사용한 데이터로 모델의 성능을 평가하게 된다면, 모델의 실제 성능보다 더 성능이 높게 평가된다는 의미입니다. 그러므로 우리가 만들 모델의 객관적인 평가는 학습시킨 train 샘플이 아니라, 학습해서 만든 모델을 이용해서 학습에서 보여주지 않은 test 샘플로 추론해서 나온 검증성적이 진짜 모델의 성능이 되는 것입니다.  \n",
    "이렇게 모델을 만드는 학습 과정에만 사용할 train 샘플과 그렇게 만들어진 모델의 성능 평가에만 사용할 test 샘플을 분리하는 과정은 `sklearn.model_selection`의 `train_test_split()` 메서드를 통해 쉽게 구현할 수 있습니다. `test_size`라는 옵션으로 전체 중 test 샘플로 분리할 비율을 정할 수 있습니다. 이번 경우에는 전체 149개 샘플 중에서 20%인 30개만 test 샘플로 분리했습니다. `shape` 파라미터로 DataFrame이나 Series의 dimension을 출력해보면 입력 정보인 `x_info`는 119개의 `train_x`와 30개의 `test_x`로 분리되었고 둘다 원래 `x_info`의 4개 column을 모두 가지고 있는 것을 확인할 수 있습니다. 답안지인 `y_answer`도 119개의 `train_y`와 30개의 `test_y`로 잘 분리된 것을 확인할 수 있습니다. `train_test_split()` 메서드로 샘플을 분리하는 과정 중에 random하게 뒤섞이는 요소가 있는데, `random_state` 옵션으로 같을 숫자가 입력되면 동일한 결과를 얻을 수 있습니다."
   ]
  },
  {
   "cell_type": "code",
   "execution_count": 23,
   "id": "39122825-9ff1-487a-80a5-a6eba5657410",
   "metadata": {},
   "outputs": [
    {
     "name": "stdout",
     "output_type": "stream",
     "text": [
      "(119, 4) (30, 4)\n",
      "(119,) (30,)\n"
     ]
    },
    {
     "data": {
      "text/html": [
       "<div>\n",
       "<style scoped>\n",
       "    .dataframe tbody tr th:only-of-type {\n",
       "        vertical-align: middle;\n",
       "    }\n",
       "\n",
       "    .dataframe tbody tr th {\n",
       "        vertical-align: top;\n",
       "    }\n",
       "\n",
       "    .dataframe thead th {\n",
       "        text-align: right;\n",
       "    }\n",
       "</style>\n",
       "<table border=\"1\" class=\"dataframe\">\n",
       "  <thead>\n",
       "    <tr style=\"text-align: right;\">\n",
       "      <th></th>\n",
       "      <th>sepal length (cm)</th>\n",
       "      <th>sepal width (cm)</th>\n",
       "      <th>petal length (cm)</th>\n",
       "      <th>petal width (cm)</th>\n",
       "    </tr>\n",
       "  </thead>\n",
       "  <tbody>\n",
       "    <tr>\n",
       "      <th>27</th>\n",
       "      <td>5.2</td>\n",
       "      <td>3.5</td>\n",
       "      <td>1.5</td>\n",
       "      <td>0.2</td>\n",
       "    </tr>\n",
       "    <tr>\n",
       "      <th>97</th>\n",
       "      <td>6.2</td>\n",
       "      <td>2.9</td>\n",
       "      <td>4.3</td>\n",
       "      <td>1.3</td>\n",
       "    </tr>\n",
       "    <tr>\n",
       "      <th>96</th>\n",
       "      <td>5.7</td>\n",
       "      <td>2.9</td>\n",
       "      <td>4.2</td>\n",
       "      <td>1.3</td>\n",
       "    </tr>\n",
       "    <tr>\n",
       "      <th>69</th>\n",
       "      <td>5.6</td>\n",
       "      <td>2.5</td>\n",
       "      <td>3.9</td>\n",
       "      <td>1.1</td>\n",
       "    </tr>\n",
       "    <tr>\n",
       "      <th>18</th>\n",
       "      <td>5.7</td>\n",
       "      <td>3.8</td>\n",
       "      <td>1.7</td>\n",
       "      <td>0.3</td>\n",
       "    </tr>\n",
       "    <tr>\n",
       "      <th>...</th>\n",
       "      <td>...</td>\n",
       "      <td>...</td>\n",
       "      <td>...</td>\n",
       "      <td>...</td>\n",
       "    </tr>\n",
       "    <tr>\n",
       "      <th>9</th>\n",
       "      <td>4.9</td>\n",
       "      <td>3.1</td>\n",
       "      <td>1.5</td>\n",
       "      <td>0.1</td>\n",
       "    </tr>\n",
       "    <tr>\n",
       "      <th>103</th>\n",
       "      <td>6.3</td>\n",
       "      <td>2.9</td>\n",
       "      <td>5.6</td>\n",
       "      <td>1.8</td>\n",
       "    </tr>\n",
       "    <tr>\n",
       "      <th>67</th>\n",
       "      <td>5.8</td>\n",
       "      <td>2.7</td>\n",
       "      <td>4.1</td>\n",
       "      <td>1.0</td>\n",
       "    </tr>\n",
       "    <tr>\n",
       "      <th>117</th>\n",
       "      <td>7.7</td>\n",
       "      <td>3.8</td>\n",
       "      <td>6.7</td>\n",
       "      <td>2.2</td>\n",
       "    </tr>\n",
       "    <tr>\n",
       "      <th>47</th>\n",
       "      <td>4.6</td>\n",
       "      <td>3.2</td>\n",
       "      <td>1.4</td>\n",
       "      <td>0.2</td>\n",
       "    </tr>\n",
       "  </tbody>\n",
       "</table>\n",
       "<p>119 rows × 4 columns</p>\n",
       "</div>"
      ],
      "text/plain": [
       "     sepal length (cm)  sepal width (cm)  petal length (cm)  petal width (cm)\n",
       "27                 5.2               3.5                1.5               0.2\n",
       "97                 6.2               2.9                4.3               1.3\n",
       "96                 5.7               2.9                4.2               1.3\n",
       "69                 5.6               2.5                3.9               1.1\n",
       "18                 5.7               3.8                1.7               0.3\n",
       "..                 ...               ...                ...               ...\n",
       "9                  4.9               3.1                1.5               0.1\n",
       "103                6.3               2.9                5.6               1.8\n",
       "67                 5.8               2.7                4.1               1.0\n",
       "117                7.7               3.8                6.7               2.2\n",
       "47                 4.6               3.2                1.4               0.2\n",
       "\n",
       "[119 rows x 4 columns]"
      ]
     },
     "metadata": {},
     "output_type": "display_data"
    },
    {
     "data": {
      "text/plain": [
       "27     0\n",
       "97     1\n",
       "96     1\n",
       "69     1\n",
       "18     0\n",
       "      ..\n",
       "9      0\n",
       "103    2\n",
       "67     1\n",
       "117    2\n",
       "47     0\n",
       "Name: target, Length: 119, dtype: int64"
      ]
     },
     "metadata": {},
     "output_type": "display_data"
    }
   ],
   "source": [
    "from sklearn.model_selection import train_test_split\n",
    "\n",
    "train_x, test_x, train_y, test_y = train_test_split(x_info, y_answer, test_size=0.2, random_state=0)\n",
    "\n",
    "print(train_x.shape, test_x.shape)\n",
    "print(train_y.shape, test_y.shape)\n",
    "display(train_x, train_y)"
   ]
  },
  {
   "cell_type": "markdown",
   "id": "10c72bc8-f76b-40a8-9519-52a382745114",
   "metadata": {},
   "source": [
    "## 4.1.4 모델 학습과 추론"
   ]
  },
  {
   "cell_type": "markdown",
   "id": "26bb27d1-367f-446b-a0ef-2bd454567ea3",
   "metadata": {},
   "source": [
    "### A. sklearn estimator"
   ]
  },
  {
   "cell_type": "markdown",
   "id": "e1282f1e-6013-433b-a67c-5dc6a875b3a6",
   "metadata": {},
   "source": [
    "앞서 분할한 train 샘플을 이용해서 학습을 진행하고, 이렇게 만들어진 모델을 test 샘플로 모델 성능을 평가해 보겠습니다. sklearn은 model이라는 이름의 estimator 객체를 통해 학습과 추론, 평가 등 다방면으로 사용의 편의성을 위해 일원화된 인터페이스를 제공하고 있습니다. 실제 해보면, '뭐야! 이게 다야?'라는 탄식이 나올 정도입니다. \n",
    "\n",
    "\n",
    "- **학습 메서드**\n",
    "    - model.fit(): 지도학습은 입력 정보 x와 답안지 y를 모두 넣어야하는 반면, 비지도 학습의 경우에는 입력 정보 x만 넣습니다.\n",
    "- **추론 메서드** (지도학습용)\n",
    "    - model.predict(): 학습된 모델에 대해 입력 정보 x에 대한 추론값 라벨 y_pred를 반환\n",
    "    - model.predict_proba(): 학습된 분류(classification) 모델의 경우, 입력 정보 x에 대한 추론값의 각 라벨이 될 확률을 2차원 matrix로 반환, 이 확률 중 가장 높은 값을 가지는 라벨이 바로 model.predict()로 반환되는 것입니다.\n",
    "    - model.score(): 학습된 모델의 경우, 학습 과정에서 train 샘플에 대한 모델 성능을 0~1의 값으로 평가합니다. score 값이 높을수록 모델이 예측한 y_pred가 실제 y를 잘 맞췄다는 의미입니다."
   ]
  },
  {
   "cell_type": "markdown",
   "id": "547e369b-852e-4b2c-a60a-13456797c6ae",
   "metadata": {},
   "source": [
    "이렇게 sklearn의 잘 구성된 프레임워크는 아래 링크와 표를 통해 확인할 수 있습니다.  \n",
    "https://scipy-lectures.org/packages/scikit-learn/index.html  \n",
    "![](https://storage.googleapis.com/bj-lecture-image/sseken/sklearn_iris/sklearn_interface.png)"
   ]
  },
  {
   "cell_type": "markdown",
   "id": "ec10cbb2-d63d-4bbd-8ca3-403104e5a293",
   "metadata": {},
   "source": [
    "### B. model.fit()"
   ]
  },
  {
   "cell_type": "markdown",
   "id": "f2d11aba-326e-4df9-b74b-5bcb6e358bae",
   "metadata": {},
   "source": [
    "그럼 sklearn을 이용해 붓꽃 데이터로 실제 학습과 추론을 진행해보겠습니다. sklearn으로 진행할 수 있는 다양한 모델 중에 가장 직관적으로 이해하기 쉬운 DecisionTreeClassifier를 첫 모델로 사용하겠습니다. 특정 규칙을 단계별로 적용해서 분류를 진행하는 방법으로 max_depth 옵션으로 규칙의 최대 단계(깊이)를 지정할 수 있습니다. 이번 예제에서는 규칙의 깊이를 최대 3단계까지로 한정해서 진행해보겠습니다. 참고로, 이 값을 너무 늘리면 과적합이 일어날 수 있습니다. DecisionTreeClassifier로 'model'이라는 객체를 생성해주고, `model.fit()`을 통해 train 샘플의 입력 정보 train_x와 답안지 train_y를 넣어주기만 하면 학습이 끝납니다. 학습 과정에서 적용된 다양한 옵션들이 출력됩니다."
   ]
  },
  {
   "cell_type": "code",
   "execution_count": 24,
   "id": "5c8099d8-cf7a-4e85-b241-9adbd925a57b",
   "metadata": {},
   "outputs": [
    {
     "data": {
      "text/plain": [
       "DecisionTreeClassifier(max_depth=3, random_state=0)"
      ]
     },
     "execution_count": 24,
     "metadata": {},
     "output_type": "execute_result"
    }
   ],
   "source": [
    "from sklearn.tree import DecisionTreeClassifier\n",
    "\n",
    "model = DecisionTreeClassifier(max_depth=3, random_state=0)\n",
    "model.fit(train_x, train_y)"
   ]
  },
  {
   "cell_type": "markdown",
   "id": "d3627eb3-17d1-4f4f-8d78-7942dadb1837",
   "metadata": {},
   "source": [
    "### C. model.predict()"
   ]
  },
  {
   "cell_type": "markdown",
   "id": "b68051d4-9a7d-48b6-ad3a-2998cc71796a",
   "metadata": {},
   "source": [
    "학습된 결과로 추론을 진행하고자 할 때에는 `model.predict()`를 사용하여 입력 정보 x를 넣으면, 그에 따른 추론값 라벨 y_pred를 반환합니다. 모델 학습에 사용한 입력 정보 train_x에 포함된 119개 샘플로 model.predict()를 실행하면 모델이 이 입력 정보를 이용해서 추론한 값을 반환합니다. 이 값을 'train_y_pred'에 저장합니다. 원래 모델을 만들 때 답안지로 제공했던 'train_y'와 비교해보면 몇몇 값들이 다르지만 대부분 실제 답안지와 추론값이 일치하는 것을 확인할 수 있습니다."
   ]
  },
  {
   "cell_type": "code",
   "execution_count": 25,
   "id": "889aa197-6397-45b7-89d2-7d410d5ba6ea",
   "metadata": {},
   "outputs": [
    {
     "name": "stdout",
     "output_type": "stream",
     "text": [
      "train_y_pred\n",
      "[0 1 1 1 0 2 2 1 1 0 2 0 1 2 2 2 1 1 1 2 2 1 2 2 1 2 1 0 1 1 1 1 2 1 2 0 0\n",
      " 2 1 0 0 1 0 2 1 0 1 1 1 0 2 2 2 2 0 0 2 2 0 2 0 2 2 0 0 2 0 0 0 1 2 2 0 0\n",
      " 0 1 1 0 0 1 0 2 1 2 1 0 2 0 1 0 0 2 0 2 1 1 1 2 1 2 2 1 1 0 1 2 2 0 1 1 2\n",
      " 1 0 0 0 2 1 2 0]\n",
      "\n",
      "train_y\n",
      "[0 1 1 1 0 2 2 1 1 0 2 0 1 2 2 2 1 1 1 2 2 1 2 2 1 2 1 0 1 1 1 1 2 1 2 0 0\n",
      " 2 1 0 0 1 0 2 1 0 1 2 1 0 2 2 2 2 0 0 2 2 0 2 0 2 2 0 0 2 0 0 0 1 2 2 0 0\n",
      " 0 1 1 0 0 1 0 2 1 2 1 0 2 0 2 0 0 2 0 2 1 1 1 2 1 2 2 1 1 0 1 2 2 0 1 1 1\n",
      " 1 0 0 0 2 1 2 0]\n"
     ]
    }
   ],
   "source": [
    "train_y_pred = model.predict(train_x)\n",
    "print('train_y_pred')\n",
    "print(train_y_pred)\n",
    "print()\n",
    "print('train_y')\n",
    "print(np.array(train_y))"
   ]
  },
  {
   "cell_type": "markdown",
   "id": "5225c0d4-1651-4210-a817-d253fb7d6d27",
   "metadata": {},
   "source": [
    "이렇게 예측한 라벨 숫자를 iris['target_names']를 이용해서 변환하면 각각의 샘플에 대한 추정 품종을 출력할 수 있습니다."
   ]
  },
  {
   "cell_type": "code",
   "execution_count": 26,
   "id": "96901ed6-f31a-446b-adb6-04d3854e7351",
   "metadata": {},
   "outputs": [
    {
     "name": "stdout",
     "output_type": "stream",
     "text": [
      "['setosa', 'versicolor', 'versicolor', 'versicolor', 'setosa', 'virginica', 'virginica', 'versicolor', 'versicolor', 'setosa', 'virginica', 'setosa', 'versicolor', 'virginica', 'virginica', 'virginica', 'versicolor', 'versicolor', 'versicolor', 'virginica', 'virginica', 'versicolor', 'virginica', 'virginica', 'versicolor', 'virginica', 'versicolor', 'setosa', 'versicolor', 'versicolor', 'versicolor', 'versicolor', 'virginica', 'versicolor', 'virginica', 'setosa', 'setosa', 'virginica', 'versicolor', 'setosa', 'setosa', 'versicolor', 'setosa', 'virginica', 'versicolor', 'setosa', 'versicolor', 'versicolor', 'versicolor', 'setosa', 'virginica', 'virginica', 'virginica', 'virginica', 'setosa', 'setosa', 'virginica', 'virginica', 'setosa', 'virginica', 'setosa', 'virginica', 'virginica', 'setosa', 'setosa', 'virginica', 'setosa', 'setosa', 'setosa', 'versicolor', 'virginica', 'virginica', 'setosa', 'setosa', 'setosa', 'versicolor', 'versicolor', 'setosa', 'setosa', 'versicolor', 'setosa', 'virginica', 'versicolor', 'virginica', 'versicolor', 'setosa', 'virginica', 'setosa', 'versicolor', 'setosa', 'setosa', 'virginica', 'setosa', 'virginica', 'versicolor', 'versicolor', 'versicolor', 'virginica', 'versicolor', 'virginica', 'virginica', 'versicolor', 'versicolor', 'setosa', 'versicolor', 'virginica', 'virginica', 'setosa', 'versicolor', 'versicolor', 'virginica', 'versicolor', 'setosa', 'setosa', 'setosa', 'virginica', 'versicolor', 'virginica', 'setosa']\n"
     ]
    }
   ],
   "source": [
    "train_y_pred_type = [iris['target_names'][class_num] for class_num in train_y_pred]\n",
    "print(train_y_pred_type)"
   ]
  },
  {
   "cell_type": "markdown",
   "id": "a4970732-6764-4197-87ba-5776e0cb95c8",
   "metadata": {},
   "source": [
    "### D. model.score()"
   ]
  },
  {
   "cell_type": "markdown",
   "id": "10e48c92-46d0-4b95-9f98-c6886e7e60ef",
   "metadata": {},
   "source": [
    "우리가 만든 모델의 성능은 어느 정도 될까요? `model.score()`를 통해 그 값을 계산해보면 97.5%라는 것을 확인할 수 있습니다. 참 잘했어요!"
   ]
  },
  {
   "cell_type": "code",
   "execution_count": 27,
   "id": "66a80227-8326-420d-aa0b-d79bbd61e981",
   "metadata": {},
   "outputs": [
    {
     "data": {
      "text/plain": [
       "0.9747899159663865"
      ]
     },
     "execution_count": 27,
     "metadata": {},
     "output_type": "execute_result"
    }
   ],
   "source": [
    "model.score(train_x, train_y)"
   ]
  },
  {
   "cell_type": "markdown",
   "id": "d17ce3b8-55fd-4d00-96a9-45c00ccdb1ee",
   "metadata": {},
   "source": [
    "만약 답안지의 실제 값 train_y와 모델이 추론한 값 train_y_pred를 하나씩 비교하면서 그 값이 동일하면 correct, 다르면 incorrect로 개수를 세어 봅시다. 48, 89, 111번째에 위치한 샘플의 추론값 3개가 실제값과는 다른 것을 확인할 수 있습니다. 전체 119개 중 오답 3개를 제외하고 116개를 정답으로 맞췄으므로 정답률을 116 / 119 = 97.5%로 model.score()로 계산한 것과 동일한 것을 확인할 수 있습니다. 이 값을 모델 성능평가 지표 중 '정확도 accuracy'라는 이름으로 부릅니다.  \n",
    "참고로 train_y는 Series라서 index로 train_test_split 전에 원래 DataFrame의 original index를 가지고 있어서 for문을 통한 iteration 과정에서 이런 index와 상관없이 train_y_pred와 순차적으로 비교하기 위해서 list() 메서드를 통해 list 타입으로 변경했습니다. "
   ]
  },
  {
   "cell_type": "code",
   "execution_count": 28,
   "id": "3a29a407-d54c-4da3-85da-40194ec5ef90",
   "metadata": {},
   "outputs": [
    {
     "name": "stdout",
     "output_type": "stream",
     "text": [
      "<Incorrect sample list>\n",
      "idx, train_y_pred, train_y\n",
      "48, 1, 2\n",
      "89, 1, 2\n",
      "111, 2, 1\n",
      "\n",
      "Number of correct samples: 116\n",
      "Number of incorrect samples: 3\n",
      "-> Accuracy: 0.9747899159663865\n"
     ]
    }
   ],
   "source": [
    "correct = 0\n",
    "incorrect = 0\n",
    "incorrect_rows = []  # list for saving incorrect row numbers\n",
    "\n",
    "print('<Incorrect sample list>')\n",
    "print('idx, train_y_pred, train_y')\n",
    "\n",
    "for row, label in enumerate(list(train_y)):  # list(train_y) : reset index temporary\n",
    "    if label == train_y_pred[row]:\n",
    "        correct += 1\n",
    "    else:\n",
    "        incorrect += 1\n",
    "        incorrect_rows.append(row)  # save incorrect index\n",
    "        print(row + 1, train_y_pred[row], label, sep=', ')  # row starts with 0\n",
    "        \n",
    "print('\\nNumber of correct samples:', correct)\n",
    "print('Number of incorrect samples:', incorrect)\n",
    "print('-> Accuracy:', correct / (correct + incorrect))"
   ]
  },
  {
   "cell_type": "markdown",
   "id": "5277a6b8-5f18-4071-b96b-67614fdc3c77",
   "metadata": {},
   "source": [
    "모델의 정확도 accuracy는 sklearn.metrics.accuracy_score를 통해서도 구할 수 있습니다. 모델의 성능을 평가하기 위해서는 정확도 accuracy 뿐만 아니라, 정밀도 precision, 재현율 recall, f1-score 등을 상황에 맞게 적용해야합니다. 모델을 평가하기 위한 다양한 성능평가 지표와 오차행렬에 대해서는 추후에 좀더 자세히 알아보겠습니다."
   ]
  },
  {
   "cell_type": "code",
   "execution_count": 29,
   "id": "6aacbc4d-846b-455c-9ca5-a8d4e597ce24",
   "metadata": {},
   "outputs": [
    {
     "name": "stdout",
     "output_type": "stream",
     "text": [
      "accuracy: 0.9747899159663865\n",
      "\n",
      "classification_report\n",
      "               precision    recall  f1-score   support\n",
      "\n",
      "           0       1.00      1.00      1.00        38\n",
      "           1       0.97      0.95      0.96        41\n",
      "           2       0.95      0.97      0.96        40\n",
      "\n",
      "    accuracy                           0.97       119\n",
      "   macro avg       0.98      0.98      0.98       119\n",
      "weighted avg       0.97      0.97      0.97       119\n",
      "\n",
      "confusion_matrix\n",
      " [[38  0  0]\n",
      " [ 0 39  2]\n",
      " [ 0  1 39]]\n"
     ]
    }
   ],
   "source": [
    "from sklearn.metrics import accuracy_score, classification_report, confusion_matrix\n",
    "\n",
    "print('accuracy:', accuracy_score(train_y_pred, train_y))\n",
    "print('\\nclassification_report\\n', classification_report(train_y_pred, train_y))\n",
    "print('confusion_matrix\\n', confusion_matrix(train_y_pred, train_y))"
   ]
  },
  {
   "cell_type": "markdown",
   "id": "29946fdc-686a-48ed-b6d1-f65ecf870d63",
   "metadata": {},
   "source": [
    "### E. model.predict_proba()"
   ]
  },
  {
   "cell_type": "markdown",
   "id": "53763f50-71b8-4373-8d20-9e455aa599e3",
   "metadata": {},
   "source": [
    "`model.predict_proba()` 메서드를 이용하면 머신러닝이 구한 각 라벨별 추정 확률값을 확인할 수 있습니다. 우리가 풀고 있는 붓꽃 문제의 경우에는 세 가지 붓꽃 품종 중 하나로 추정하는 상황이므로, 샘플별로 각 품종별 추정 확률이 세 가지 값으로 주어집니다. 첫번째 column은 라벨 0인 'setosa'일 확률, 두번째 column은 라벨 1인 'versicolor', 세번째 column은 라벨 2는 'virginica'일 확률을 뜻합니다. "
   ]
  },
  {
   "cell_type": "code",
   "execution_count": 30,
   "id": "5c83e14c-6459-4f51-acf5-b07cc7955eb6",
   "metadata": {},
   "outputs": [
    {
     "name": "stdout",
     "output_type": "stream",
     "text": [
      "[[1.         0.         0.        ]\n",
      " [0.         0.95121951 0.04878049]\n",
      " [0.         0.95121951 0.04878049]\n",
      " [0.         0.95121951 0.04878049]\n",
      " [1.         0.         0.        ]\n",
      " [0.         0.         1.        ]\n",
      " [0.         0.         1.        ]\n",
      " [0.         0.95121951 0.04878049]\n",
      " [0.         0.95121951 0.04878049]\n",
      " [1.         0.         0.        ]\n",
      " [0.         0.         1.        ]\n",
      " [1.         0.         0.        ]\n",
      " [0.         0.95121951 0.04878049]\n",
      " [0.         0.         1.        ]\n",
      " [0.         0.         1.        ]\n",
      " [0.         0.         1.        ]\n",
      " [0.         0.95121951 0.04878049]\n",
      " [0.         0.95121951 0.04878049]\n",
      " [0.         0.95121951 0.04878049]\n",
      " [0.         0.         1.        ]\n",
      " [0.         0.         1.        ]\n",
      " [0.         0.95121951 0.04878049]\n",
      " [0.         0.         1.        ]\n",
      " [0.         0.         1.        ]\n",
      " [0.         0.95121951 0.04878049]\n",
      " [0.         0.33333333 0.66666667]\n",
      " [0.         0.95121951 0.04878049]\n",
      " [1.         0.         0.        ]\n",
      " [0.         0.95121951 0.04878049]\n",
      " [0.         0.95121951 0.04878049]\n",
      " [0.         0.95121951 0.04878049]\n",
      " [0.         0.95121951 0.04878049]\n",
      " [0.         0.         1.        ]\n",
      " [0.         0.95121951 0.04878049]\n",
      " [0.         0.         1.        ]\n",
      " [1.         0.         0.        ]\n",
      " [1.         0.         0.        ]\n",
      " [0.         0.         1.        ]\n",
      " [0.         0.95121951 0.04878049]\n",
      " [1.         0.         0.        ]\n",
      " [1.         0.         0.        ]\n",
      " [0.         0.95121951 0.04878049]\n",
      " [1.         0.         0.        ]\n",
      " [0.         0.         1.        ]\n",
      " [0.         0.95121951 0.04878049]\n",
      " [1.         0.         0.        ]\n",
      " [0.         0.95121951 0.04878049]\n",
      " [0.         0.95121951 0.04878049]\n",
      " [0.         0.95121951 0.04878049]\n",
      " [1.         0.         0.        ]\n",
      " [0.         0.         1.        ]\n",
      " [0.         0.         1.        ]\n",
      " [0.         0.         1.        ]\n",
      " [0.         0.         1.        ]\n",
      " [1.         0.         0.        ]\n",
      " [1.         0.         0.        ]\n",
      " [0.         0.         1.        ]\n",
      " [0.         0.         1.        ]\n",
      " [1.         0.         0.        ]\n",
      " [0.         0.         1.        ]\n",
      " [1.         0.         0.        ]\n",
      " [0.         0.         1.        ]\n",
      " [0.         0.33333333 0.66666667]\n",
      " [1.         0.         0.        ]\n",
      " [1.         0.         0.        ]\n",
      " [0.         0.         1.        ]\n",
      " [1.         0.         0.        ]\n",
      " [1.         0.         0.        ]\n",
      " [1.         0.         0.        ]\n",
      " [0.         0.95121951 0.04878049]\n",
      " [0.         0.         1.        ]\n",
      " [0.         0.         1.        ]\n",
      " [1.         0.         0.        ]\n",
      " [1.         0.         0.        ]\n",
      " [1.         0.         0.        ]\n",
      " [0.         0.95121951 0.04878049]\n",
      " [0.         0.95121951 0.04878049]\n",
      " [1.         0.         0.        ]\n",
      " [1.         0.         0.        ]\n",
      " [0.         0.95121951 0.04878049]\n",
      " [1.         0.         0.        ]\n",
      " [0.         0.         1.        ]\n",
      " [0.         0.95121951 0.04878049]\n",
      " [0.         0.         1.        ]\n",
      " [0.         0.95121951 0.04878049]\n",
      " [1.         0.         0.        ]\n",
      " [0.         0.         1.        ]\n",
      " [1.         0.         0.        ]\n",
      " [0.         0.95121951 0.04878049]\n",
      " [1.         0.         0.        ]\n",
      " [1.         0.         0.        ]\n",
      " [0.         0.         1.        ]\n",
      " [1.         0.         0.        ]\n",
      " [0.         0.         1.        ]\n",
      " [0.         0.95121951 0.04878049]\n",
      " [0.         0.95121951 0.04878049]\n",
      " [0.         0.95121951 0.04878049]\n",
      " [0.         0.         1.        ]\n",
      " [0.         0.95121951 0.04878049]\n",
      " [0.         0.         1.        ]\n",
      " [0.         0.         1.        ]\n",
      " [0.         0.95121951 0.04878049]\n",
      " [0.         0.95121951 0.04878049]\n",
      " [1.         0.         0.        ]\n",
      " [0.         0.95121951 0.04878049]\n",
      " [0.         0.         1.        ]\n",
      " [0.         0.         1.        ]\n",
      " [1.         0.         0.        ]\n",
      " [0.         0.95121951 0.04878049]\n",
      " [0.         0.95121951 0.04878049]\n",
      " [0.         0.33333333 0.66666667]\n",
      " [0.         0.95121951 0.04878049]\n",
      " [1.         0.         0.        ]\n",
      " [1.         0.         0.        ]\n",
      " [1.         0.         0.        ]\n",
      " [0.         0.         1.        ]\n",
      " [0.         0.95121951 0.04878049]\n",
      " [0.         0.         1.        ]\n",
      " [1.         0.         0.        ]]\n"
     ]
    }
   ],
   "source": [
    "train_y_proba = model.predict_proba(train_x)\n",
    "print(train_y_proba)"
   ]
  },
  {
   "cell_type": "markdown",
   "id": "67549e36-6f45-4159-9c34-3dde65984d34",
   "metadata": {},
   "source": [
    "사실 앞서 `model.predict()` 메서드로 구한 각 샘플별 추정 라벨은 `model.predict_proba()`를 통해 구한 각 라벨별 추정 확률 중 가장 높은 값에 해당하는 라벨을 반환환 결과와 동일합니다. list comprehension과 argmax() 메서드를 통해 간단히 구해낼 수 있습니다. "
   ]
  },
  {
   "cell_type": "code",
   "execution_count": 31,
   "id": "dfc5f1bd-85db-4fbe-b4ab-c9b1311c1066",
   "metadata": {},
   "outputs": [
    {
     "name": "stdout",
     "output_type": "stream",
     "text": [
      "train_y_proba_max\n",
      "[0 1 1 1 0 2 2 1 1 0 2 0 1 2 2 2 1 1 1 2 2 1 2 2 1 2 1 0 1 1 1 1 2 1 2 0 0\n",
      " 2 1 0 0 1 0 2 1 0 1 1 1 0 2 2 2 2 0 0 2 2 0 2 0 2 2 0 0 2 0 0 0 1 2 2 0 0\n",
      " 0 1 1 0 0 1 0 2 1 2 1 0 2 0 1 0 0 2 0 2 1 1 1 2 1 2 2 1 1 0 1 2 2 0 1 1 2\n",
      " 1 0 0 0 2 1 2 0]\n",
      "\n",
      "train_y_pred\n",
      "[0 1 1 1 0 2 2 1 1 0 2 0 1 2 2 2 1 1 1 2 2 1 2 2 1 2 1 0 1 1 1 1 2 1 2 0 0\n",
      " 2 1 0 0 1 0 2 1 0 1 1 1 0 2 2 2 2 0 0 2 2 0 2 0 2 2 0 0 2 0 0 0 1 2 2 0 0\n",
      " 0 1 1 0 0 1 0 2 1 2 1 0 2 0 1 0 0 2 0 2 1 1 1 2 1 2 2 1 1 0 1 2 2 0 1 1 2\n",
      " 1 0 0 0 2 1 2 0]\n",
      "\n",
      "Is equal? True\n"
     ]
    }
   ],
   "source": [
    "train_y_proba_max = np.array([proba.argmax() for proba in train_y_proba])\n",
    "print('train_y_proba_max')\n",
    "print(train_y_proba_max)\n",
    "\n",
    "print('\\ntrain_y_pred')\n",
    "print(train_y_pred)\n",
    "\n",
    "print('\\nIs equal?', np.array_equal(train_y_pred, train_y_proba_max))"
   ]
  },
  {
   "cell_type": "markdown",
   "id": "45b4c6ef-ec45-4bf8-b847-d3fd800c614d",
   "metadata": {},
   "source": [
    "실제 정답인 train_y와 모델에 의한 추정값인 train_y_pred가 다른 결과를 보였던 샘플들의 추정 확률을 index slicing을 통해 모아보면 아래와 같습니다. 111번째 샘플의 경우에는 확률이 가장 높은 라벨 2로 추정을 했으나, 그 확률이 66.7%로 그리 높지 않았던 것을 확인할 수 있습니다. 반면에 48, 89번째 샘플의 경우에는 95.1%의 확률로 라벨 1로 추정했습니다. 데이터를 살펴봐야 겠지만, 측정 오류 또는 라벨링 오류일수도 있다는 생각이 듭니다."
   ]
  },
  {
   "cell_type": "code",
   "execution_count": 32,
   "id": "0f47058b-a791-4328-a979-73420bf159b3",
   "metadata": {},
   "outputs": [
    {
     "name": "stdout",
     "output_type": "stream",
     "text": [
      "row number: 48 , probability list: [0.         0.95121951 0.04878049]\n",
      "row number: 89 , probability list: [0.         0.95121951 0.04878049]\n",
      "row number: 111 , probability list: [0.         0.33333333 0.66666667]\n"
     ]
    }
   ],
   "source": [
    "for row in incorrect_rows:\n",
    "    print('row number:', row + 1, ', probability list:', train_y_proba[row, :])  # row starts with 0"
   ]
  },
  {
   "cell_type": "markdown",
   "id": "0c80b75c-e88c-423d-a530-f037103cb92b",
   "metadata": {},
   "source": [
    "우리가 붓꽃 품종 분류 문제를 풀기 위해서 sklearn.tree.DecisionTreeClassifier를 이용해서 최대 깊이 3짜리 모델을 만들었습니다. 특정 규칙을 단계별로 적용해서 분류를 진행하는 방법으로 가장 직관적인 모델이라고 했는데, 'graphviz' 모듈을 이용하면 이런 직관적 모습을 도표로 나타낼 수 있습니다. sklearn.tree.export_graphviz를 통해 graphviz의 dot type 파일로 결과를 export한 후에, graphviz.Source() 메서드를 이용해서 그래프로 표현할 수 있습니다. 입력 정보인 4가지 feature들을 특정 규칙으로 최대 3단계에 걸쳐 분류하는 모습을 확인할 수 있습니다."
   ]
  },
  {
   "cell_type": "code",
   "execution_count": 33,
   "id": "3a99f5aa-e187-46a3-b173-da0bd8867e33",
   "metadata": {},
   "outputs": [],
   "source": [
    "# !pip install graphviz  # if graphviz is not installed..."
   ]
  },
  {
   "cell_type": "code",
   "execution_count": 34,
   "id": "a63d1042-821d-4c72-83b5-4c8064be0dc6",
   "metadata": {},
   "outputs": [
    {
     "data": {
      "image/svg+xml": [
       "<?xml version=\"1.0\" encoding=\"UTF-8\" standalone=\"no\"?>\n",
       "<!DOCTYPE svg PUBLIC \"-//W3C//DTD SVG 1.1//EN\"\n",
       " \"http://www.w3.org/Graphics/SVG/1.1/DTD/svg11.dtd\">\n",
       "<!-- Generated by graphviz version 2.40.1 (20161225.0304)\n",
       " -->\n",
       "<!-- Title: Tree Pages: 1 -->\n",
       "<svg width=\"654pt\" height=\"433pt\"\n",
       " viewBox=\"0.00 0.00 653.50 433.00\" xmlns=\"http://www.w3.org/2000/svg\" xmlns:xlink=\"http://www.w3.org/1999/xlink\">\n",
       "<g id=\"graph0\" class=\"graph\" transform=\"scale(1 1) rotate(0) translate(4 429)\">\n",
       "<title>Tree</title>\n",
       "<polygon fill=\"#ffffff\" stroke=\"transparent\" points=\"-4,4 -4,-429 649.5,-429 649.5,4 -4,4\"/>\n",
       "<!-- 0 -->\n",
       "<g id=\"node1\" class=\"node\">\n",
       "<title>0</title>\n",
       "<polygon fill=\"#fdfcff\" stroke=\"#000000\" points=\"330,-425 131,-425 131,-342 330,-342 330,-425\"/>\n",
       "<text text-anchor=\"middle\" x=\"230.5\" y=\"-409.8\" font-family=\"Times,serif\" font-size=\"14.00\" fill=\"#000000\">petal width (cm) &lt;= 0.75</text>\n",
       "<text text-anchor=\"middle\" x=\"230.5\" y=\"-394.8\" font-family=\"Times,serif\" font-size=\"14.00\" fill=\"#000000\">gini = 0.666</text>\n",
       "<text text-anchor=\"middle\" x=\"230.5\" y=\"-379.8\" font-family=\"Times,serif\" font-size=\"14.00\" fill=\"#000000\">samples = 119</text>\n",
       "<text text-anchor=\"middle\" x=\"230.5\" y=\"-364.8\" font-family=\"Times,serif\" font-size=\"14.00\" fill=\"#000000\">value = [38, 40, 41]</text>\n",
       "<text text-anchor=\"middle\" x=\"230.5\" y=\"-349.8\" font-family=\"Times,serif\" font-size=\"14.00\" fill=\"#000000\">class = virginica</text>\n",
       "</g>\n",
       "<!-- 1 -->\n",
       "<g id=\"node2\" class=\"node\">\n",
       "<title>1</title>\n",
       "<polygon fill=\"#e58139\" stroke=\"#000000\" points=\"206.5,-298.5 66.5,-298.5 66.5,-230.5 206.5,-230.5 206.5,-298.5\"/>\n",
       "<text text-anchor=\"middle\" x=\"136.5\" y=\"-283.3\" font-family=\"Times,serif\" font-size=\"14.00\" fill=\"#000000\">gini = 0.0</text>\n",
       "<text text-anchor=\"middle\" x=\"136.5\" y=\"-268.3\" font-family=\"Times,serif\" font-size=\"14.00\" fill=\"#000000\">samples = 38</text>\n",
       "<text text-anchor=\"middle\" x=\"136.5\" y=\"-253.3\" font-family=\"Times,serif\" font-size=\"14.00\" fill=\"#000000\">value = [38, 0, 0]</text>\n",
       "<text text-anchor=\"middle\" x=\"136.5\" y=\"-238.3\" font-family=\"Times,serif\" font-size=\"14.00\" fill=\"#000000\">class = setosa</text>\n",
       "</g>\n",
       "<!-- 0&#45;&gt;1 -->\n",
       "<g id=\"edge1\" class=\"edge\">\n",
       "<title>0&#45;&gt;1</title>\n",
       "<path fill=\"none\" stroke=\"#000000\" d=\"M197.6234,-341.8796C188.6768,-330.5536 178.9776,-318.2748 169.9971,-306.9058\"/>\n",
       "<polygon fill=\"#000000\" stroke=\"#000000\" points=\"172.551,-304.4926 163.6059,-298.8149 167.058,-308.8316 172.551,-304.4926\"/>\n",
       "<text text-anchor=\"middle\" x=\"160.6916\" y=\"-319.9445\" font-family=\"Times,serif\" font-size=\"14.00\" fill=\"#000000\">True</text>\n",
       "</g>\n",
       "<!-- 2 -->\n",
       "<g id=\"node3\" class=\"node\">\n",
       "<title>2</title>\n",
       "<polygon fill=\"#fcfafe\" stroke=\"#000000\" points=\"424,-306 225,-306 225,-223 424,-223 424,-306\"/>\n",
       "<text text-anchor=\"middle\" x=\"324.5\" y=\"-290.8\" font-family=\"Times,serif\" font-size=\"14.00\" fill=\"#000000\">petal width (cm) &lt;= 1.75</text>\n",
       "<text text-anchor=\"middle\" x=\"324.5\" y=\"-275.8\" font-family=\"Times,serif\" font-size=\"14.00\" fill=\"#000000\">gini = 0.5</text>\n",
       "<text text-anchor=\"middle\" x=\"324.5\" y=\"-260.8\" font-family=\"Times,serif\" font-size=\"14.00\" fill=\"#000000\">samples = 81</text>\n",
       "<text text-anchor=\"middle\" x=\"324.5\" y=\"-245.8\" font-family=\"Times,serif\" font-size=\"14.00\" fill=\"#000000\">value = [0, 40, 41]</text>\n",
       "<text text-anchor=\"middle\" x=\"324.5\" y=\"-230.8\" font-family=\"Times,serif\" font-size=\"14.00\" fill=\"#000000\">class = virginica</text>\n",
       "</g>\n",
       "<!-- 0&#45;&gt;2 -->\n",
       "<g id=\"edge2\" class=\"edge\">\n",
       "<title>0&#45;&gt;2</title>\n",
       "<path fill=\"none\" stroke=\"#000000\" d=\"M263.3766,-341.8796C270.4197,-332.9633 277.9293,-323.4565 285.1874,-314.268\"/>\n",
       "<polygon fill=\"#000000\" stroke=\"#000000\" points=\"288.0309,-316.3147 291.483,-306.2981 282.5379,-311.9757 288.0309,-316.3147\"/>\n",
       "<text text-anchor=\"middle\" x=\"294.3973\" y=\"-327.4276\" font-family=\"Times,serif\" font-size=\"14.00\" fill=\"#000000\">False</text>\n",
       "</g>\n",
       "<!-- 3 -->\n",
       "<g id=\"node4\" class=\"node\">\n",
       "<title>3</title>\n",
       "<polygon fill=\"#48e78b\" stroke=\"#000000\" points=\"314,-187 117,-187 117,-104 314,-104 314,-187\"/>\n",
       "<text text-anchor=\"middle\" x=\"215.5\" y=\"-171.8\" font-family=\"Times,serif\" font-size=\"14.00\" fill=\"#000000\">sepal length (cm) &lt;= 7.1</text>\n",
       "<text text-anchor=\"middle\" x=\"215.5\" y=\"-156.8\" font-family=\"Times,serif\" font-size=\"14.00\" fill=\"#000000\">gini = 0.133</text>\n",
       "<text text-anchor=\"middle\" x=\"215.5\" y=\"-141.8\" font-family=\"Times,serif\" font-size=\"14.00\" fill=\"#000000\">samples = 42</text>\n",
       "<text text-anchor=\"middle\" x=\"215.5\" y=\"-126.8\" font-family=\"Times,serif\" font-size=\"14.00\" fill=\"#000000\">value = [0, 39, 3]</text>\n",
       "<text text-anchor=\"middle\" x=\"215.5\" y=\"-111.8\" font-family=\"Times,serif\" font-size=\"14.00\" fill=\"#000000\">class = versicolor</text>\n",
       "</g>\n",
       "<!-- 2&#45;&gt;3 -->\n",
       "<g id=\"edge3\" class=\"edge\">\n",
       "<title>2&#45;&gt;3</title>\n",
       "<path fill=\"none\" stroke=\"#000000\" d=\"M286.3771,-222.8796C278.0451,-213.7832 269.1502,-204.0722 260.5761,-194.7116\"/>\n",
       "<polygon fill=\"#000000\" stroke=\"#000000\" points=\"263.1211,-192.3081 253.7856,-187.2981 257.9592,-197.0363 263.1211,-192.3081\"/>\n",
       "</g>\n",
       "<!-- 6 -->\n",
       "<g id=\"node7\" class=\"node\">\n",
       "<title>6</title>\n",
       "<polygon fill=\"#843ee6\" stroke=\"#000000\" points=\"536.5,-187 332.5,-187 332.5,-104 536.5,-104 536.5,-187\"/>\n",
       "<text text-anchor=\"middle\" x=\"434.5\" y=\"-171.8\" font-family=\"Times,serif\" font-size=\"14.00\" fill=\"#000000\">petal length (cm) &lt;= 4.85</text>\n",
       "<text text-anchor=\"middle\" x=\"434.5\" y=\"-156.8\" font-family=\"Times,serif\" font-size=\"14.00\" fill=\"#000000\">gini = 0.05</text>\n",
       "<text text-anchor=\"middle\" x=\"434.5\" y=\"-141.8\" font-family=\"Times,serif\" font-size=\"14.00\" fill=\"#000000\">samples = 39</text>\n",
       "<text text-anchor=\"middle\" x=\"434.5\" y=\"-126.8\" font-family=\"Times,serif\" font-size=\"14.00\" fill=\"#000000\">value = [0, 1, 38]</text>\n",
       "<text text-anchor=\"middle\" x=\"434.5\" y=\"-111.8\" font-family=\"Times,serif\" font-size=\"14.00\" fill=\"#000000\">class = virginica</text>\n",
       "</g>\n",
       "<!-- 2&#45;&gt;6 -->\n",
       "<g id=\"edge6\" class=\"edge\">\n",
       "<title>2&#45;&gt;6</title>\n",
       "<path fill=\"none\" stroke=\"#000000\" d=\"M362.9727,-222.8796C371.3811,-213.7832 380.3576,-204.0722 389.0103,-194.7116\"/>\n",
       "<polygon fill=\"#000000\" stroke=\"#000000\" points=\"391.6453,-197.0172 395.8631,-187.2981 386.505,-192.2656 391.6453,-197.0172\"/>\n",
       "</g>\n",
       "<!-- 4 -->\n",
       "<g id=\"node5\" class=\"node\">\n",
       "<title>4</title>\n",
       "<polygon fill=\"#43e687\" stroke=\"#000000\" points=\"145,-68 0,-68 0,0 145,0 145,-68\"/>\n",
       "<text text-anchor=\"middle\" x=\"72.5\" y=\"-52.8\" font-family=\"Times,serif\" font-size=\"14.00\" fill=\"#000000\">gini = 0.093</text>\n",
       "<text text-anchor=\"middle\" x=\"72.5\" y=\"-37.8\" font-family=\"Times,serif\" font-size=\"14.00\" fill=\"#000000\">samples = 41</text>\n",
       "<text text-anchor=\"middle\" x=\"72.5\" y=\"-22.8\" font-family=\"Times,serif\" font-size=\"14.00\" fill=\"#000000\">value = [0, 39, 2]</text>\n",
       "<text text-anchor=\"middle\" x=\"72.5\" y=\"-7.8\" font-family=\"Times,serif\" font-size=\"14.00\" fill=\"#000000\">class = versicolor</text>\n",
       "</g>\n",
       "<!-- 3&#45;&gt;4 -->\n",
       "<g id=\"edge4\" class=\"edge\">\n",
       "<title>3&#45;&gt;4</title>\n",
       "<path fill=\"none\" stroke=\"#000000\" d=\"M162.2521,-103.9815C149.8756,-94.3313 136.7172,-84.0714 124.3997,-74.4673\"/>\n",
       "<polygon fill=\"#000000\" stroke=\"#000000\" points=\"126.4818,-71.6525 116.4435,-68.2637 122.1775,-77.1728 126.4818,-71.6525\"/>\n",
       "</g>\n",
       "<!-- 5 -->\n",
       "<g id=\"node6\" class=\"node\">\n",
       "<title>5</title>\n",
       "<polygon fill=\"#8139e5\" stroke=\"#000000\" points=\"300,-68 163,-68 163,0 300,0 300,-68\"/>\n",
       "<text text-anchor=\"middle\" x=\"231.5\" y=\"-52.8\" font-family=\"Times,serif\" font-size=\"14.00\" fill=\"#000000\">gini = 0.0</text>\n",
       "<text text-anchor=\"middle\" x=\"231.5\" y=\"-37.8\" font-family=\"Times,serif\" font-size=\"14.00\" fill=\"#000000\">samples = 1</text>\n",
       "<text text-anchor=\"middle\" x=\"231.5\" y=\"-22.8\" font-family=\"Times,serif\" font-size=\"14.00\" fill=\"#000000\">value = [0, 0, 1]</text>\n",
       "<text text-anchor=\"middle\" x=\"231.5\" y=\"-7.8\" font-family=\"Times,serif\" font-size=\"14.00\" fill=\"#000000\">class = virginica</text>\n",
       "</g>\n",
       "<!-- 3&#45;&gt;5 -->\n",
       "<g id=\"edge5\" class=\"edge\">\n",
       "<title>3&#45;&gt;5</title>\n",
       "<path fill=\"none\" stroke=\"#000000\" d=\"M221.4578,-103.9815C222.658,-95.618 223.9238,-86.7965 225.1372,-78.3409\"/>\n",
       "<polygon fill=\"#000000\" stroke=\"#000000\" points=\"228.6272,-78.6595 226.5832,-68.2637 221.6982,-77.6651 228.6272,-78.6595\"/>\n",
       "</g>\n",
       "<!-- 7 -->\n",
       "<g id=\"node8\" class=\"node\">\n",
       "<title>7</title>\n",
       "<polygon fill=\"#c09cf2\" stroke=\"#000000\" points=\"487,-68 350,-68 350,0 487,0 487,-68\"/>\n",
       "<text text-anchor=\"middle\" x=\"418.5\" y=\"-52.8\" font-family=\"Times,serif\" font-size=\"14.00\" fill=\"#000000\">gini = 0.444</text>\n",
       "<text text-anchor=\"middle\" x=\"418.5\" y=\"-37.8\" font-family=\"Times,serif\" font-size=\"14.00\" fill=\"#000000\">samples = 3</text>\n",
       "<text text-anchor=\"middle\" x=\"418.5\" y=\"-22.8\" font-family=\"Times,serif\" font-size=\"14.00\" fill=\"#000000\">value = [0, 1, 2]</text>\n",
       "<text text-anchor=\"middle\" x=\"418.5\" y=\"-7.8\" font-family=\"Times,serif\" font-size=\"14.00\" fill=\"#000000\">class = virginica</text>\n",
       "</g>\n",
       "<!-- 6&#45;&gt;7 -->\n",
       "<g id=\"edge7\" class=\"edge\">\n",
       "<title>6&#45;&gt;7</title>\n",
       "<path fill=\"none\" stroke=\"#000000\" d=\"M428.5422,-103.9815C427.342,-95.618 426.0762,-86.7965 424.8628,-78.3409\"/>\n",
       "<polygon fill=\"#000000\" stroke=\"#000000\" points=\"428.3018,-77.6651 423.4168,-68.2637 421.3728,-78.6595 428.3018,-77.6651\"/>\n",
       "</g>\n",
       "<!-- 8 -->\n",
       "<g id=\"node9\" class=\"node\">\n",
       "<title>8</title>\n",
       "<polygon fill=\"#8139e5\" stroke=\"#000000\" points=\"645.5,-68 505.5,-68 505.5,0 645.5,0 645.5,-68\"/>\n",
       "<text text-anchor=\"middle\" x=\"575.5\" y=\"-52.8\" font-family=\"Times,serif\" font-size=\"14.00\" fill=\"#000000\">gini = 0.0</text>\n",
       "<text text-anchor=\"middle\" x=\"575.5\" y=\"-37.8\" font-family=\"Times,serif\" font-size=\"14.00\" fill=\"#000000\">samples = 36</text>\n",
       "<text text-anchor=\"middle\" x=\"575.5\" y=\"-22.8\" font-family=\"Times,serif\" font-size=\"14.00\" fill=\"#000000\">value = [0, 0, 36]</text>\n",
       "<text text-anchor=\"middle\" x=\"575.5\" y=\"-7.8\" font-family=\"Times,serif\" font-size=\"14.00\" fill=\"#000000\">class = virginica</text>\n",
       "</g>\n",
       "<!-- 6&#45;&gt;8 -->\n",
       "<g id=\"edge8\" class=\"edge\">\n",
       "<title>6&#45;&gt;8</title>\n",
       "<path fill=\"none\" stroke=\"#000000\" d=\"M487.0032,-103.9815C499.2066,-94.3313 512.181,-84.0714 524.3261,-74.4673\"/>\n",
       "<polygon fill=\"#000000\" stroke=\"#000000\" points=\"526.4982,-77.2118 532.171,-68.2637 522.1562,-71.7211 526.4982,-77.2118\"/>\n",
       "</g>\n",
       "</g>\n",
       "</svg>\n"
      ],
      "text/plain": [
       "<graphviz.files.Source at 0x7f381f4db3c8>"
      ]
     },
     "execution_count": 34,
     "metadata": {},
     "output_type": "execute_result"
    }
   ],
   "source": [
    "from sklearn.tree import export_graphviz\n",
    "\n",
    "export_graphviz(model, out_file='./iris_tree.dot', class_names=iris['target_names'], feature_names=iris['feature_names'], filled=True)\n",
    "\n",
    "import graphviz\n",
    "\n",
    "with open('./iris_tree.dot') as f:\n",
    "    tree_graph = f.read()\n",
    "graphviz.Source(tree_graph)"
   ]
  },
  {
   "cell_type": "markdown",
   "id": "7492dc0e-af59-49cf-8ca9-899483d1a192",
   "metadata": {},
   "source": [
    "### F. model evaluation using test samples"
   ]
  },
  {
   "cell_type": "markdown",
   "id": "71c0c5d2-f2eb-4cd2-971d-d7596dd94761",
   "metadata": {},
   "source": [
    "지금까지 우리는 sklearn의 model이라는 이름의 estimator 객체에 `model.fit()`, `model.predict()`, `model.predict_proba()`, `model.score()`의 편리한 인터페이스를 이용해서 모델을 학습하고 추론하고, 성능을 평가하는 과정을 놀랍도록 쉽게 진행할 수 있다는 것을 확인했습니다. 우리에게 주어진 149개의 입력 정보 x_info와 답안지 y_answer를 train_test_split 메서드로 나눈 후, 119개의 train 샘플만 이용해서 이 과정들을 진행했는데 남겨둔 30개의 test 샘플들을 이용해서 실제 우리가 학습시킨 모델을 일반적으로 사용할 수 있는지 성능을 평가해봅시다.  \n",
    "우리가 train 샘플들로 학습시킨 model 객체에 predict() 메서드를 이용해서 test_x 입력 정보를 넣으면, 각 입력 정보를 바탕으로 모델이 추정한 test_y_pred를 구할 수 있습니다. 아래 결과에서 볼 수 있는 것처럼 남겨둔 30개 test_x에 해당하는 추정값 test_y_pred가 30개 만들어진 것을 확인했습니다. 모델을 통해 추정한 test_y_pred와 우리가 원래 확보하고 있던 test_y와 비교해보면 몇몇 값들이 틀린 것을 확인할 수 있습니다."
   ]
  },
  {
   "cell_type": "code",
   "execution_count": 35,
   "id": "b97d9442-33ff-4cf6-8bca-7613c7c0ce92",
   "metadata": {},
   "outputs": [
    {
     "name": "stdout",
     "output_type": "stream",
     "text": [
      "test_y_pred\n",
      "[1 2 1 1 0 2 2 1 2 1 0 0 1 0 0 2 2 1 0 0 0 0 1 0 1 1 1 0 0 1]\n",
      "\n",
      "test_x.shape: (30, 4)\n",
      "test_y_pred.shape: (30,)\n",
      "\n",
      "test_y\n",
      "[2 2 1 1 0 2 2 1 2 1 0 0 1 0 0 2 2 1 0 0 0 0 1 0 1 1 1 0 0 2]\n"
     ]
    }
   ],
   "source": [
    "test_y_pred = model.predict(test_x)\n",
    "print('test_y_pred')\n",
    "print(test_y_pred)\n",
    "print('\\ntest_x.shape:', test_x.shape)\n",
    "print('test_y_pred.shape:', test_y_pred.shape, end='\\n\\n')\n",
    "print('test_y')\n",
    "print(np.array(test_y))"
   ]
  },
  {
   "cell_type": "markdown",
   "id": "7323ef85-917d-4b2b-b714-b7cc872065ba",
   "metadata": {},
   "source": [
    "test 샘플에 대한 추정값 test_y_pred와 실제값 test_y를 통해 모델의 정확도 accuracy를 구해보면 93.3%라는 것을 확인할 수 있습니다. 앞서 train 샘플을 이용한 모델의 정확도는 97.5%에 비해서는 낮다는 것을 확인했습니다. test 샘플의 성적보다 train 샘플의 성적이 높으므로 우리 모델은 일부 과적합 상태라는 것을 알 수 있습니다."
   ]
  },
  {
   "cell_type": "code",
   "execution_count": 36,
   "id": "c3f11628-e99a-4de5-9aee-07f391ac40b4",
   "metadata": {},
   "outputs": [
    {
     "name": "stdout",
     "output_type": "stream",
     "text": [
      "0.9333333333333333\n",
      "0.9333333333333333\n"
     ]
    }
   ],
   "source": [
    "print(model.score(test_x, test_y))\n",
    "print(accuracy_score(test_y_pred, test_y))"
   ]
  },
  {
   "cell_type": "markdown",
   "id": "5775c2c0-9d87-4a2f-98bb-4f9df925f8c4",
   "metadata": {},
   "source": [
    "만약 우리가 붓꽃 문제를 max_depth=10으로 좀더 깊은 단계로 학습을 시켜봅시다. 그러면 놀랍게도 train 샘플의 정확도는 100%로 모두 맞출 수 있습니다. 하지만 이 때에도 test 샘플의 정확도는 93.3%로 나아지지 않았습니다. 비록 train 샘플의 정확도가 높아졌다고 하더라도 max_depth=3이었던 모델과 max_depth=10으로 새로 만든 모델의 성능은 동일하다고 판단해야만 할 것입니다. "
   ]
  },
  {
   "cell_type": "code",
   "execution_count": 37,
   "id": "c45ad59a-dec5-406f-afe9-b7fff9fc03f3",
   "metadata": {},
   "outputs": [
    {
     "data": {
      "text/plain": [
       "DecisionTreeClassifier(max_depth=10, random_state=0)"
      ]
     },
     "execution_count": 37,
     "metadata": {},
     "output_type": "execute_result"
    }
   ],
   "source": [
    "model_md10 = DecisionTreeClassifier(max_depth=10, random_state=0)\n",
    "model_md10.fit(train_x, train_y)"
   ]
  },
  {
   "cell_type": "code",
   "execution_count": 38,
   "id": "f72a9de3-64fd-4f40-bf8b-75ce310b4e11",
   "metadata": {},
   "outputs": [
    {
     "name": "stdout",
     "output_type": "stream",
     "text": [
      "train score of md10: 1.0\n",
      "test score of md10: 0.9333333333333333\n"
     ]
    }
   ],
   "source": [
    "print('train score of md10:', model_md10.score(train_x, train_y))\n",
    "print('test score of md10:', model_md10.score(test_x, test_y))"
   ]
  },
  {
   "cell_type": "markdown",
   "id": "5a8788f9-9ad7-45ab-971a-0ac5d9e43ad4",
   "metadata": {},
   "source": [
    "---"
   ]
  },
  {
   "cell_type": "markdown",
   "id": "bde3481f-dc54-4a2d-b510-5b66185db1ec",
   "metadata": {},
   "source": [
    "### G. cross validation"
   ]
  },
  {
   "cell_type": "markdown",
   "id": "dbd9bff3-cda8-42e0-846d-9b4e80c32c46",
   "metadata": {},
   "source": [
    "지금까지 우리는 train 샘플들을 학습해서 만든 DecisionTreeClassifier모델이 얼마나 범용적으로 적용할 수 있는지 알아보기 위해서 라벨링했던 데이터 일부를 덜어넣고 학습에 참여시키지 않은 test 샘플들을 이용해서 모델의 성능평가를 해보았습니다. 앞에서 살펴본 것처럼 학습 중 일어나는 과적합 영향을 피하고 객관적인 평가를 위해서 test 샘플을 이용해서 모델 검증을 진행하는데, 검증 과정에서 사용하는 test 샘플이 한쪽으로 편향(bias) 되어 있다면 모델의 평가가 정확하지 않을 것입니다. 이런 검증의 편향을 줄이기 위해서 고안해낸 방법이 k-fold 교차검증 (cross validation)입니다.  \n",
    "아래 그림에서 초록색 부분이 우리가 학습을 진행하는 train 샘플들입니다. 이 train 샘플들을 5개의 fold로 나눈 후, 4개는 학습에 사용하고 나머지 1개는 검증에 사용하는 과정을 5개 fold에 대해 5번 진행하는 과정을 5-fold cross validation이라고 부릅니다. 이 때 검증에 사용하는 fold들을 각각 validation 샘플이라고 부릅니다. 예를 들어, split1은 fold1을 검증용 validation 샘플로 남겨두고, fold2부터 fold5까지 4개의 fold를 모아서 학습시키게 됩니다. 모델이 만들어지면 학습에 포함하지 않은 fold1으로 모델 검증성적을 얻게 됩니다. split2에서는 fold2를 validation 샘플로 남겨두고 나머지로 학습시킨 후 fold3로 검증합니다. 이런 일련의 과정을 split1부터 5까지 fold1부터 fold5로 각각 교차로 5번 검증함으로써 검증 과정의 편향을 최대한 줄이고자 노력하는 것입니다. 여러가지 모델에 대해 이렇게 교차 검증 과정에서 나오는 성적들의 평균 또는 최대값을 통해 가장 나은 모델을 결정합니다.  \n",
    "아래 그림에서 파란색 부분은 위에서 train_test_split으로 나눈 test 샘플인데, 이 데이터는 train 샘플의 교차 검증을 통해 선정한 모델의 최종 성능 평가를 위해 사용합니다. 이런 까다로운 이중의 검증 과정은 어떤 상황에서 필요할까요? 예를 들어, 환자들의 x-ray 이미지에서 질병 상태를 예측하는 머신러닝 모델을 만들고 있다고 가정해봅시다. \n",
    "\n",
    "\n",
    "한 명의 환자에 대해 시간에 따라 여러 장의 x-ray 사진을 병리의사가 확인하여 각 사진별 질병 상태를 라벨링한 데이터입니다. 그런데 병원에 따라 x-ray 장비나 환경이 다르다고 \n",
    "\n",
    "\n",
    "우리는 인공지능이 질병 유무에 따라 구분되는 특징을 찾아내어 질병을 판단해주길 기대하고 있습니다. 하지만 질병 유무와 관계 없이 환자 개개인에 따라서도 체형이나 신체의 특징 등 환자 개별을 구별할 수 있는 특징도 있기 때문에 가장 먼저 100명의 환자 중 80명 환자와 20명 환자의 데이터를 분리해서 train 샘플과 test 샘플로 나누는 과정이 필요합니다. \n",
    "\n",
    "우리가 찾아내고자 하는 특징 이외에 다른 특징을 모델이 학습해서 결과를 추정하는 일을 막기 위해서 학습 과정에는 단 한장도 포함되지 않았던 환자들의 샘플로 학습 모델을 검증해야 우리가 만든 모델이 특정 개인을 찾아내지 않고, 질병 상태의 특성에만 집중해서 찾아내는지 제대로된 검증이 되는 것입니다."
   ]
  },
  {
   "cell_type": "markdown",
   "id": "f6ce6a7b-7aa1-4aad-b5ef-6e2a59935755",
   "metadata": {},
   "source": [
    "https://scikit-learn.org/stable/modules/cross_validation.html  \n",
    "![](https://storage.googleapis.com/bj-lecture-image/sseken/sklearn_iris/grid_search_cross_validation.png)"
   ]
  },
  {
   "cell_type": "code",
   "execution_count": null,
   "id": "840eef51-431c-4719-98ec-e71cabfc953f",
   "metadata": {},
   "outputs": [],
   "source": []
  },
  {
   "cell_type": "markdown",
   "id": "06253b5f-621a-4466-ae75-301a5e4a2c14",
   "metadata": {},
   "source": [
    "### H. stratified K-fold"
   ]
  },
  {
   "cell_type": "markdown",
   "id": "e66639c8-1b44-4e49-aab4-8644a44a7b15",
   "metadata": {},
   "source": [
    " 이 과정에서 한가지 꼭 확인해야할 사항이 있습니다. 바로 train_test_split() 메서드로 데이터를 분할할 때 라벨링의 클래스별로 균등하게 나누었는지 입니다. 예를 들어 우리가 수학 시험을 준비하고 있는데, 친절한 수학선생님께서 시험 문제로 집합에서 1문제, 함수 2문제, 미적분 3문제, 확률 4문제를 낸다고 알려주셨다고 가정합시다. 만약 집합만 새까맣게 10시간을 공부하고 간다면 총 10문제 중 집합 1문제만 자신있게 풀수 있겠죠. 만약 우리에게 주어진 10시간을 집합 1시간, 함수 2시간, 미적분 3시간, 확률 4시간으로 고르게 공부하고 시험을 본다면 높은 성적을 기대할 수 있겠죠. 이와 마찬가지로 우리가 머신러닝으로 분류 문제를 학습시킬 때에도 우리가 가지고 있는 샘플들의 라벨링 클래스의 비율에 맞게 test 샘플을 골라내서 학습을 시킨다면 라벨링 종류에 따라 고른 학습이 이루어지므로 전체적으로 모델의 성능이 높아질 것으로 기대할 수 있습니다. 이렇게 라벨링 클래스별 불균형 imbalance가 있는 경우, 그 비율별로 test 샘플을 나누는 방법을 알아보겠습니다."
   ]
  },
  {
   "cell_type": "markdown",
   "id": "435fd35e-4ed9-436b-8476-d4949753d511",
   "metadata": {},
   "source": [
    "![](https://storage.googleapis.com/bj-lecture-image/sseken/sklearn_iris/kfold1.png)"
   ]
  },
  {
   "cell_type": "code",
   "execution_count": null,
   "id": "119fbed5-9a3c-4d7b-9dd5-867a69919c18",
   "metadata": {},
   "outputs": [],
   "source": []
  },
  {
   "cell_type": "markdown",
   "id": "528055e1-9db3-405e-889c-819f72d2fea5",
   "metadata": {},
   "source": [
    "![](https://storage.googleapis.com/bj-lecture-image/sseken/sklearn_iris/kfold2.png)"
   ]
  },
  {
   "cell_type": "code",
   "execution_count": null,
   "id": "f7932ec8-2d6a-4d4c-960f-a30626679910",
   "metadata": {},
   "outputs": [],
   "source": []
  },
  {
   "cell_type": "code",
   "execution_count": null,
   "id": "e17fe956-b95c-477c-93e5-d2900258fcfb",
   "metadata": {},
   "outputs": [],
   "source": []
  },
  {
   "cell_type": "code",
   "execution_count": null,
   "id": "7831826f-4d44-4cf6-9769-47a2652bc9e9",
   "metadata": {},
   "outputs": [],
   "source": []
  },
  {
   "cell_type": "code",
   "execution_count": null,
   "id": "eed8774e-3fe9-4610-b62a-b2c1dacc9c05",
   "metadata": {},
   "outputs": [],
   "source": []
  },
  {
   "cell_type": "markdown",
   "id": "8afac1da-8fd1-4189-aa18-eef61736635d",
   "metadata": {},
   "source": [
    "stratified kfold"
   ]
  },
  {
   "cell_type": "code",
   "execution_count": 39,
   "id": "29073d93-10e3-4332-ac5a-b01a887eb1ae",
   "metadata": {},
   "outputs": [
    {
     "data": {
      "text/plain": [
       "2    41\n",
       "1    40\n",
       "0    38\n",
       "Name: target, dtype: int64"
      ]
     },
     "execution_count": 39,
     "metadata": {},
     "output_type": "execute_result"
    }
   ],
   "source": [
    "train_y.value_counts()"
   ]
  },
  {
   "cell_type": "code",
   "execution_count": 40,
   "id": "bbd9d0ac-08fb-4f0f-b28f-0450d1de7b5a",
   "metadata": {},
   "outputs": [
    {
     "data": {
      "text/plain": [
       "0    12\n",
       "1    10\n",
       "2     8\n",
       "Name: target, dtype: int64"
      ]
     },
     "execution_count": 40,
     "metadata": {},
     "output_type": "execute_result"
    }
   ],
   "source": [
    "test_y.value_counts()"
   ]
  },
  {
   "cell_type": "code",
   "execution_count": null,
   "id": "5dd33ff2-bf65-4f63-b9fa-0e03467c5744",
   "metadata": {},
   "outputs": [],
   "source": []
  },
  {
   "cell_type": "code",
   "execution_count": 41,
   "id": "4ea91ca0-392a-40ca-9926-9b9139df0a3a",
   "metadata": {},
   "outputs": [
    {
     "data": {
      "text/plain": [
       "array([0.02382211, 0.        , 0.00829852, 0.96787936])"
      ]
     },
     "execution_count": 41,
     "metadata": {},
     "output_type": "execute_result"
    }
   ],
   "source": [
    "model.feature_importances_"
   ]
  },
  {
   "cell_type": "markdown",
   "id": "5de1cb6f-295f-470c-8896-c575848a9f19",
   "metadata": {},
   "source": [
    "https://scikit-learn.org/stable/modules/cross_validation.html"
   ]
  },
  {
   "cell_type": "markdown",
   "id": "c3a37d7e-c9f5-4d03-a41d-44d9753a5dc8",
   "metadata": {},
   "source": [
    "## 4.1.5 모델 저장 및 불러오기"
   ]
  },
  {
   "cell_type": "markdown",
   "id": "97daa450-bc0d-4699-91cc-53426f64fee0",
   "metadata": {},
   "source": [
    "### A. 모델 저장하기"
   ]
  },
  {
   "cell_type": "code",
   "execution_count": 42,
   "id": "f99d89b2-e6df-4569-8ca4-4feb1e74bb78",
   "metadata": {},
   "outputs": [],
   "source": [
    "import pickle\n",
    "\n",
    "model_path = '/home/jovyan/model.pkl'\n",
    "\n",
    "pickle.dump(model, open(model_path, 'wb'))"
   ]
  },
  {
   "cell_type": "markdown",
   "id": "e1e82aaa-d0d4-4823-8866-2d1bcce03d15",
   "metadata": {},
   "source": [
    "### B. 모델 불러오기"
   ]
  },
  {
   "cell_type": "code",
   "execution_count": 43,
   "id": "405c0068-ec9e-46cf-87b9-0b646f7b7367",
   "metadata": {},
   "outputs": [
    {
     "data": {
      "text/plain": [
       "0.9747899159663865"
      ]
     },
     "execution_count": 43,
     "metadata": {},
     "output_type": "execute_result"
    }
   ],
   "source": [
    "loaded_model = pickle.load(open(model_path, 'rb'))\n",
    "loaded_model.score(train_x, train_y)"
   ]
  },
  {
   "cell_type": "markdown",
   "id": "7a6fed64-4135-401e-83b9-d584b0b72751",
   "metadata": {},
   "source": [
    "**※ input_data_sample**\n",
    "['sepal length (cm)', 'sepal width (cm)', 'petal length (cm)', 'petal width (cm)']"
   ]
  },
  {
   "cell_type": "code",
   "execution_count": 44,
   "id": "d5b0658f-9aee-4a7e-88be-ab3e8d4d06c5",
   "metadata": {},
   "outputs": [],
   "source": [
    "# input_data_sample = [5.1, 3.5, 1.4, 0.2]  # y_true=0\n",
    "input_data_sample = [7.0, 3.2, 4.7, 1.4]  # y_true=1\n",
    "# input_data_sample = [6.3, 3.3, 6.0, 2.5]  # y_true=2"
   ]
  },
  {
   "cell_type": "code",
   "execution_count": 45,
   "id": "fcfaac25-3008-461c-b3fa-b0e196cafce3",
   "metadata": {},
   "outputs": [
    {
     "name": "stdout",
     "output_type": "stream",
     "text": [
      "[[0.         0.95121951 0.04878049]]\n",
      "0.9512195121951219\n",
      "1\n",
      "[1]\n"
     ]
    }
   ],
   "source": [
    "input_vector = np.array(input_data_sample).reshape((1, 4))  \n",
    "print(loaded_model.predict_proba(input_vector))\n",
    "print(loaded_model.predict_proba(input_vector).max())\n",
    "print(loaded_model.predict_proba(input_vector).argmax())\n",
    "print(loaded_model.predict(input_vector))"
   ]
  },
  {
   "cell_type": "code",
   "execution_count": null,
   "id": "c17737fc-7d4a-4f23-91b1-7919c7a1cd0f",
   "metadata": {},
   "outputs": [],
   "source": []
  },
  {
   "cell_type": "code",
   "execution_count": 46,
   "id": "e45ca8d5-d5c0-4c59-9d66-974d28853b01",
   "metadata": {},
   "outputs": [],
   "source": [
    "import pickle\n",
    "model_path = '/home/jovyan/iris_model/models/iris_model.pkl'\n",
    "pickle.dump(model, open(model_path, 'wb'))"
   ]
  },
  {
   "cell_type": "code",
   "execution_count": 47,
   "id": "ffab2c43-57e2-4671-986c-c60dedc45c0e",
   "metadata": {},
   "outputs": [],
   "source": [
    "import pickle\n",
    "import numpy as np\n",
    "model_path = '/home/jovyan/iris_model/models/iris_model.pkl'"
   ]
  },
  {
   "cell_type": "code",
   "execution_count": 48,
   "id": "6b8d4b68-dc82-4708-8c71-0d8b0feddf1c",
   "metadata": {},
   "outputs": [],
   "source": [
    "loaded_model = pickle.load(open(model_path, 'rb'))"
   ]
  },
  {
   "cell_type": "code",
   "execution_count": 63,
   "id": "196920e1-76a3-4a36-9b80-d8064097976a",
   "metadata": {},
   "outputs": [],
   "source": [
    "# input_data_sample = [5.1, 3.5, 1.4, 0.2]  # y_true=0\n",
    "input_data_sample = [7.0, 3.2, 4.7, 1.4]  # y_true=1\n",
    "# input_data_sample = [6.3, 3.3, 6.0, 2.5]  # y_true=2"
   ]
  },
  {
   "cell_type": "code",
   "execution_count": 64,
   "id": "08d59a14-9ab6-4d9b-8407-850730b1ddb0",
   "metadata": {},
   "outputs": [
    {
     "name": "stdout",
     "output_type": "stream",
     "text": [
      "[[0.         0.95121951 0.04878049]]\n",
      "0.9512195121951219\n",
      "1\n",
      "[1]\n"
     ]
    }
   ],
   "source": [
    "input_vector = np.array(input_data_sample).reshape((1, 4))  \n",
    "print(loaded_model.predict_proba(input_vector))\n",
    "print(loaded_model.predict_proba(input_vector).max())\n",
    "print(loaded_model.predict_proba(input_vector).argmax())\n",
    "print(loaded_model.predict(input_vector))\n",
    "result_index = loaded_model.predict_proba(input_vector).argmax()"
   ]
  },
  {
   "cell_type": "code",
   "execution_count": 65,
   "id": "cc75c0c1-02e7-48b2-8c11-a316293fb2c2",
   "metadata": {},
   "outputs": [
    {
     "data": {
      "text/plain": [
       "1"
      ]
     },
     "execution_count": 65,
     "metadata": {},
     "output_type": "execute_result"
    }
   ],
   "source": [
    "result_index"
   ]
  },
  {
   "cell_type": "code",
   "execution_count": 66,
   "id": "ac0c4148-8771-4ea4-9d01-77c0f3aa301b",
   "metadata": {},
   "outputs": [
    {
     "name": "stdout",
     "output_type": "stream",
     "text": [
      "dict_keys(['data', 'target', 'frame', 'target_names', 'DESCR', 'feature_names', 'filename'])\n"
     ]
    }
   ],
   "source": [
    "import numpy as np\n",
    "import pandas as pd\n",
    "\n",
    "from sklearn import datasets\n",
    "\n",
    "iris = datasets.load_iris()\n",
    "print(iris.keys())"
   ]
  },
  {
   "cell_type": "code",
   "execution_count": 67,
   "id": "551ca474-fbbe-4010-85e0-2e5018e63b37",
   "metadata": {},
   "outputs": [
    {
     "data": {
      "text/plain": [
       "array(['setosa', 'versicolor', 'virginica'], dtype='<U10')"
      ]
     },
     "execution_count": 67,
     "metadata": {},
     "output_type": "execute_result"
    }
   ],
   "source": [
    "iris['target_names']"
   ]
  },
  {
   "cell_type": "code",
   "execution_count": 68,
   "id": "20041003-5394-4c2b-bd4d-2b73488959d0",
   "metadata": {},
   "outputs": [
    {
     "data": {
      "text/plain": [
       "'versicolor'"
      ]
     },
     "execution_count": 68,
     "metadata": {},
     "output_type": "execute_result"
    }
   ],
   "source": [
    "result_values = ['setosa', 'versicolor', 'virginica']\n",
    "\n",
    "result = result_values[result_index]\n",
    "\n",
    "result"
   ]
  },
  {
   "cell_type": "code",
   "execution_count": 69,
   "id": "c8825da9-bd64-4862-9353-9c8f8ec8ea2c",
   "metadata": {},
   "outputs": [
    {
     "data": {
      "text/html": [
       "<div>\n",
       "<style scoped>\n",
       "    .dataframe tbody tr th:only-of-type {\n",
       "        vertical-align: middle;\n",
       "    }\n",
       "\n",
       "    .dataframe tbody tr th {\n",
       "        vertical-align: top;\n",
       "    }\n",
       "\n",
       "    .dataframe thead th {\n",
       "        text-align: right;\n",
       "    }\n",
       "</style>\n",
       "<table border=\"1\" class=\"dataframe\">\n",
       "  <thead>\n",
       "    <tr style=\"text-align: right;\">\n",
       "      <th></th>\n",
       "      <th>sepal length (cm)</th>\n",
       "      <th>sepal width (cm)</th>\n",
       "      <th>petal length (cm)</th>\n",
       "      <th>petal width (cm)</th>\n",
       "      <th>target</th>\n",
       "    </tr>\n",
       "  </thead>\n",
       "  <tbody>\n",
       "    <tr>\n",
       "      <th>count</th>\n",
       "      <td>149.000000</td>\n",
       "      <td>149.000000</td>\n",
       "      <td>149.000000</td>\n",
       "      <td>149.000000</td>\n",
       "      <td>149.000000</td>\n",
       "    </tr>\n",
       "    <tr>\n",
       "      <th>mean</th>\n",
       "      <td>5.843624</td>\n",
       "      <td>3.059732</td>\n",
       "      <td>3.748993</td>\n",
       "      <td>1.194631</td>\n",
       "      <td>0.993289</td>\n",
       "    </tr>\n",
       "    <tr>\n",
       "      <th>std</th>\n",
       "      <td>0.830851</td>\n",
       "      <td>0.436342</td>\n",
       "      <td>1.767791</td>\n",
       "      <td>0.762622</td>\n",
       "      <td>0.817847</td>\n",
       "    </tr>\n",
       "    <tr>\n",
       "      <th>min</th>\n",
       "      <td>4.300000</td>\n",
       "      <td>2.000000</td>\n",
       "      <td>1.000000</td>\n",
       "      <td>0.100000</td>\n",
       "      <td>0.000000</td>\n",
       "    </tr>\n",
       "    <tr>\n",
       "      <th>25%</th>\n",
       "      <td>5.100000</td>\n",
       "      <td>2.800000</td>\n",
       "      <td>1.600000</td>\n",
       "      <td>0.300000</td>\n",
       "      <td>0.000000</td>\n",
       "    </tr>\n",
       "    <tr>\n",
       "      <th>50%</th>\n",
       "      <td>5.800000</td>\n",
       "      <td>3.000000</td>\n",
       "      <td>4.300000</td>\n",
       "      <td>1.300000</td>\n",
       "      <td>1.000000</td>\n",
       "    </tr>\n",
       "    <tr>\n",
       "      <th>75%</th>\n",
       "      <td>6.400000</td>\n",
       "      <td>3.300000</td>\n",
       "      <td>5.100000</td>\n",
       "      <td>1.800000</td>\n",
       "      <td>2.000000</td>\n",
       "    </tr>\n",
       "    <tr>\n",
       "      <th>max</th>\n",
       "      <td>7.900000</td>\n",
       "      <td>4.400000</td>\n",
       "      <td>6.900000</td>\n",
       "      <td>2.500000</td>\n",
       "      <td>2.000000</td>\n",
       "    </tr>\n",
       "  </tbody>\n",
       "</table>\n",
       "</div>"
      ],
      "text/plain": [
       "       sepal length (cm)  sepal width (cm)  petal length (cm)  \\\n",
       "count         149.000000        149.000000         149.000000   \n",
       "mean            5.843624          3.059732           3.748993   \n",
       "std             0.830851          0.436342           1.767791   \n",
       "min             4.300000          2.000000           1.000000   \n",
       "25%             5.100000          2.800000           1.600000   \n",
       "50%             5.800000          3.000000           4.300000   \n",
       "75%             6.400000          3.300000           5.100000   \n",
       "max             7.900000          4.400000           6.900000   \n",
       "\n",
       "       petal width (cm)      target  \n",
       "count        149.000000  149.000000  \n",
       "mean           1.194631    0.993289  \n",
       "std            0.762622    0.817847  \n",
       "min            0.100000    0.000000  \n",
       "25%            0.300000    0.000000  \n",
       "50%            1.300000    1.000000  \n",
       "75%            1.800000    2.000000  \n",
       "max            2.500000    2.000000  "
      ]
     },
     "metadata": {},
     "output_type": "display_data"
    }
   ],
   "source": [
    "display(iris_df.describe())"
   ]
  },
  {
   "cell_type": "code",
   "execution_count": null,
   "id": "9dd0dd13-d45b-4a84-a5f1-8f4c19041389",
   "metadata": {},
   "outputs": [],
   "source": []
  }
 ],
 "metadata": {
  "kernelspec": {
   "display_name": "Python 3",
   "language": "python",
   "name": "python3"
  },
  "language_info": {
   "codemirror_mode": {
    "name": "ipython",
    "version": 3
   },
   "file_extension": ".py",
   "mimetype": "text/x-python",
   "name": "python",
   "nbconvert_exporter": "python",
   "pygments_lexer": "ipython3",
   "version": "3.6.9"
  }
 },
 "nbformat": 4,
 "nbformat_minor": 5
}
